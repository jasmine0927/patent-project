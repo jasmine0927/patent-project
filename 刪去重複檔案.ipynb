{
 "cells": [
  {
   "cell_type": "code",
   "execution_count": 1,
   "id": "6d6fd541",
   "metadata": {},
   "outputs": [],
   "source": [
    "import pandas as pd"
   ]
  },
  {
   "cell_type": "code",
   "execution_count": 2,
   "id": "49cfd9bf",
   "metadata": {},
   "outputs": [],
   "source": [
    "# 指定Excel檔案的路徑\n",
    "file_path = 'patents_continuous.xlsx'  # 請替換成你的檔案路徑\n",
    "\n",
    "# 讀取Excel檔案\n",
    "df = pd.read_excel(file_path)"
   ]
  },
  {
   "cell_type": "code",
   "execution_count": 3,
   "id": "aa345ede",
   "metadata": {},
   "outputs": [
    {
     "name": "stdout",
     "output_type": "stream",
     "text": [
      "\n",
      "移除重複後的DataFrame:\n",
      "       Unnamed: 0    Unnamed: 1 Unnamed: 2   Unnamed: 3 Unnamed: 4  \\\n",
      "0             NaN        公開/公告號     公開/公告日          申請號        申請日   \n",
      "1             0.0  TW202412510A   20240316  TW112134756   20230912   \n",
      "2             1.0  TW202412509A   20240316  TW112134755   20230912   \n",
      "3             2.0  TW202411755A   20240316  TW111134217   20220909   \n",
      "4             3.0  TW202411727A   20240316  TW111133567   20220905   \n",
      "...           ...           ...        ...          ...        ...   \n",
      "54113        99.0    TWI432742B   20140401  TW096116069   20070507   \n",
      "54114       100.0    TWI380581B   20121221  TW098130486   20090910   \n",
      "54115       101.0    TWI356598B   20120111  TW093140134   20041222   \n",
      "54116       102.0    TWI314392B   20090901  TW092120434   20030725   \n",
      "54117       103.0     TW258797B   19951001  TW080106479   19910815   \n",
      "\n",
      "                                  Unnamed: 5  \\\n",
      "0                                     專利名稱原文   \n",
      "1                   固體攝像裝置、固體攝像裝置的驅動方法以及電子設備   \n",
      "2                   固體攝像裝置、固體攝像裝置的驅動方法以及電子設備   \n",
      "3                                 攝像頭模組及電子設備   \n",
      "4                      相位修正元件、設計方法、成像方法及電子設備   \n",
      "...                                      ...   \n",
      "54113  具有斬取放大器之射頻功率感測器及與高頻脈衝射頻信號相關的射頻功率的量測方法   \n",
      "54114                            增益控制方法及電子裝置   \n",
      "54115             可攜式通信裝置之信號產生功率管理控制系統及其使用方法   \n",
      "54116                 於聲頻裝置中植基於電氣阻抗之聲頻補償及其方法   \n",
      "54117                                   伺服電路   \n",
      "\n",
      "                                              Unnamed: 6           Unnamed: 7  \\\n",
      "0                                                 專利名稱英文              IPC 分類號   \n",
      "1      SOLID-STATE IMAGING DEVICE, DRIVING METHOD FOR...  H04N 5/357(2011.01)   \n",
      "2      SOLID-STATE IMAGING DEVICE, DRIVING METHOD FOR...  H04N 5/357(2011.01)   \n",
      "3                 CAMERA MODULE AND ELECTRONIC EQUIPMENT  G03B 17/02(2021.01)   \n",
      "4                                                    無資料  G02B 26/06(2006.01)   \n",
      "...                                                  ...                  ...   \n",
      "54113  RF POWER SENSOR WITH CHOPPING AMPLIFIER AND ME...  G01R 21/01(2006.01)   \n",
      "54114       GAIN CONTROL METHOD AND ELECTRONIC APPARATUS   H03G 3/20(2006.01)   \n",
      "54115  SIGNAL GENERATION POWER MANAGEMENT CONTROL SYS...   H04B 1/00(2006.01)   \n",
      "54116  ELECTRICAL IMPEDANCE BASED AUDIO COMPENSATION ...  H03G 11/00(2006.01)   \n",
      "54117                                                無資料   G05B 1/03(2006.01)   \n",
      "\n",
      "                                              Unnamed: 8  \\\n",
      "0                                                 摘要分段內容   \n",
      "1      提供一種固體攝像裝置、固體攝像裝置的驅動方法、以及電子設備，其能夠在不增加電壓采樣保持用訊號...   \n",
      "2      提供一種固體攝像裝置、固體攝像裝置的驅動方法、以及電子設備，其能夠在不增加電壓采樣保持用訊號...   \n",
      "3      本申請提供一種攝像頭模組及電子設備。該攝像頭模組包括承載座、感光晶片和電路板，承載座和感光晶...   \n",
      "4      本發明有關了一種相位修正元件、設計方法、成像方法及電子設備。 應用於電子設備，該電子設備包括...   \n",
      "...                                                  ...   \n",
      "54113  本發明提供一種具有寬動態範圍的射頻功率偵測器，其包含一斬取放大器且用以偵測脈衝高頻射頻信號。...   \n",
      "54114  本發明提供一種增益控制方法及電子裝置，其中增益控制方法包括：放大器根據增益放大第一信號以獲得...   \n",
      "54115  本發明揭示一種用於一可攜式通信裝置之信號產生功率管理控制系統(100)，其包含用以處理一數位...   \n",
      "54116  本發明揭示一種聲頻裝置,例如一無線通信手機,包括一聲音轉換器(410),其耦合至一聲頻補償器...   \n",
      "54117  一種伺服電路，適用於控制可變增益放大器以處理聲頻信號在電視接收器，立體聲裝置或其同類者中。伺...   \n",
      "\n",
      "                                              Unnamed: 9  \n",
      "0                                               專利範圍段落內容  \n",
      "1                                                    無資料  \n",
      "2                                                    無資料  \n",
      "3                                                    無資料  \n",
      "4                                                    無資料  \n",
      "...                                                  ...  \n",
      "54113  1.一種射頻功率感測器，包含：一放大器，用以接收一射頻輸入信號，及藉由週期地放大該射頻輸入信...  \n",
      "54114  1.一種增益控制方法，其中一放大器根據一增益放大一第一信號以獲得一第二信號，以及一轉換器將所...  \n",
      "54115  1.一種用於一可攜式通信裝置之系統，其包括：一數位信號處理器DSP，其用以處理一數位源輸入並...  \n",
      "54116  1.一種應用於具有一接聽式聲音轉換器之電子裝置中的方法，包括：決定隨著該聲音轉換器的一聲學阻...  \n",
      "54117  1.一種伺服電路包含：一可變增益放大器，其增益隨著對絕對溫度的預設溫度係數而變化；一幅度限制...  \n",
      "\n",
      "[29850 rows x 10 columns]\n"
     ]
    }
   ],
   "source": [
    "# 移除完全重複的資料行\n",
    "df_unique = df.drop_duplicates()\n",
    "\n",
    "# 打印移除重複後的DataFrame\n",
    "print(\"\\n移除重複後的DataFrame:\")\n",
    "print(df_unique)"
   ]
  },
  {
   "cell_type": "code",
   "execution_count": 4,
   "id": "6ab76204",
   "metadata": {},
   "outputs": [
    {
     "name": "stdout",
     "output_type": "stream",
     "text": [
      "數據已儲存到Excel檔案：cleaned_patent_data.xlsx\n"
     ]
    }
   ],
   "source": [
    "# 如果你想要保存處理後的數據到一個新的Excel檔案\n",
    "output_path = 'cleaned_patent_data.xlsx'  # 輸出檔案的路徑\n",
    "df_unique.to_excel(output_path, index=False)\n",
    "\n",
    "print(f\"數據已儲存到Excel檔案：{output_path}\")"
   ]
  },
  {
   "cell_type": "code",
   "execution_count": null,
   "id": "018fe6d9",
   "metadata": {},
   "outputs": [],
   "source": []
  }
 ],
 "metadata": {
  "kernelspec": {
   "display_name": "Python 3 (ipykernel)",
   "language": "python",
   "name": "python3"
  },
  "language_info": {
   "codemirror_mode": {
    "name": "ipython",
    "version": 3
   },
   "file_extension": ".py",
   "mimetype": "text/x-python",
   "name": "python",
   "nbconvert_exporter": "python",
   "pygments_lexer": "ipython3",
   "version": "3.8.16"
  }
 },
 "nbformat": 4,
 "nbformat_minor": 5
}
