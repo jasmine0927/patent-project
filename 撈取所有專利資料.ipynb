{
 "cells": [
  {
   "cell_type": "code",
   "execution_count": 1,
   "id": "eb59bbea",
   "metadata": {},
   "outputs": [],
   "source": [
    "import pandas as pd\n",
    "import requests\n",
    "import xml.etree.ElementTree as ET\n",
    "from datetime import datetime\n",
    "from openpyxl import load_workbook\n",
    "import openpyxl"
   ]
  },
  {
   "cell_type": "code",
   "execution_count": 2,
   "id": "989bd642",
   "metadata": {},
   "outputs": [],
   "source": [
    "# 讀取Excel檔案\n",
    "keywords_df = pd.read_excel(\"keywords_combinations.xlsx\")"
   ]
  },
  {
   "cell_type": "code",
   "execution_count": 3,
   "id": "ac9f3ee3",
   "metadata": {},
   "outputs": [],
   "source": [
    "# 設置API基本參數\n",
    "user_code = '9c7a8F3961941042'  # 請替換成實際的驗證碼\n",
    "base_url = 'https://gpss1.tipo.gov.tw/gpsskmc/gpss_api'"
   ]
  },
  {
   "cell_type": "code",
   "execution_count": 4,
   "id": "e2a5f62a",
   "metadata": {},
   "outputs": [],
   "source": [
    "# 設定XML到DataFrame欄位名稱的映射\n",
    "xml_to_df_mapping = {\n",
    "    'publication-reference/doc-number': '公開/公告號',\n",
    "    'publication-reference/date': '公開/公告日',\n",
    "    'application-reference/doc-number': '申請號',\n",
    "    'application-reference/date': '申請日',\n",
    "    'patent-title/title': '專利名稱原文',\n",
    "    'patent-title/english-title': '專利名稱英文',\n",
    "    'classifications-ipc/ipc': 'IPC 分類號',\n",
    "    #'classifications-cpc/cpc': 'CPC 分類號',\n",
    "    'abstract/p': '摘要分段內容',\n",
    "    'claims/claim/claim-text': '專利範圍段落內容'\n",
    "}"
   ]
  },
  {
   "cell_type": "code",
   "execution_count": 5,
   "id": "8b4e5365",
   "metadata": {},
   "outputs": [],
   "source": [
    "def save_progress(index):\n",
    "    with open('儲存進度.txt', 'w') as file:\n",
    "        file.write(str(index))\n",
    "    print(f\"進度已更新，當前索引: {index}\")\n",
    "\n",
    "def load_progress():\n",
    "    try:\n",
    "        with open('儲存進度.txt', 'r') as file:\n",
    "            return int(file.read().strip())\n",
    "    except FileNotFoundError:\n",
    "        return 0  # 如果沒有進度文件，從頭開始\n"
   ]
  },
  {
   "cell_type": "code",
   "execution_count": 6,
   "id": "e8e46b8c",
   "metadata": {},
   "outputs": [],
   "source": [
    "def append_df_to_excel(filename, df, sheet_name='Sheet1', startrow=None, **to_excel_kwargs):\n",
    "    from openpyxl import load_workbook\n",
    "\n",
    "    # 嘗試打開現有文件\n",
    "    try:\n",
    "        with pd.ExcelWriter(filename, engine='openpyxl', mode='a', if_sheet_exists='overlay') as writer:\n",
    "            # 從已有的workbook中載入所有的sheet\n",
    "            writer.book = load_workbook(filename)\n",
    "\n",
    "            # 獲取已存在的sheet的最後一行\n",
    "            if startrow is None:\n",
    "                try:\n",
    "                    startrow = writer.sheets[sheet_name].max_row\n",
    "                except KeyError:\n",
    "                    # 如果指定的sheet不存在，開始行為0\n",
    "                    startrow = 0\n",
    "            \n",
    "            # 寫入DataFrame\n",
    "            df.to_excel(writer, sheet_name=sheet_name, startrow=startrow, **to_excel_kwargs)\n",
    "\n",
    "            # 保存文件\n",
    "            writer.save()\n",
    "    except FileNotFoundError:\n",
    "        # 如果文件不存在，則創建新文件\n",
    "        df.to_excel(filename, sheet_name=sheet_name, startrow=startrow, **to_excel_kwargs)"
   ]
  },
  {
   "cell_type": "code",
   "execution_count": 7,
   "id": "92829ca2",
   "metadata": {},
   "outputs": [],
   "source": [
    "# 讀取上次的進度\n",
    "start_index = load_progress()"
   ]
  },
  {
   "cell_type": "code",
   "execution_count": 8,
   "id": "a5df5e46",
   "metadata": {},
   "outputs": [],
   "source": [
    "# 初始化存儲專利信息的列表\n",
    "all_patents_info = []"
   ]
  },
  {
   "cell_type": "code",
   "execution_count": 9,
   "id": "3201f42c",
   "metadata": {},
   "outputs": [
    {
     "name": "stderr",
     "output_type": "stream",
     "text": [
      "C:\\Users\\nicon\\AppData\\Local\\Temp\\ipykernel_32876\\2706685892.py:8: FutureWarning: Setting the `book` attribute is not part of the public API, usage can give unexpected or corrupted results and will be removed in a future version\n",
      "  writer.book = load_workbook(filename)\n",
      "C:\\Users\\nicon\\AppData\\Local\\Temp\\ipykernel_32876\\2706685892.py:22: FutureWarning: save is not part of the public API, usage can give unexpected results and will be removed in a future version\n",
      "  writer.save()\n"
     ]
    },
    {
     "name": "stdout",
     "output_type": "stream",
     "text": [
      "進度已更新，當前索引: 505\n"
     ]
    },
    {
     "name": "stderr",
     "output_type": "stream",
     "text": [
      "C:\\Users\\nicon\\AppData\\Local\\Temp\\ipykernel_32876\\2706685892.py:8: FutureWarning: Setting the `book` attribute is not part of the public API, usage can give unexpected or corrupted results and will be removed in a future version\n",
      "  writer.book = load_workbook(filename)\n",
      "C:\\Users\\nicon\\AppData\\Local\\Temp\\ipykernel_32876\\2706685892.py:22: FutureWarning: save is not part of the public API, usage can give unexpected results and will be removed in a future version\n",
      "  writer.save()\n"
     ]
    },
    {
     "name": "stdout",
     "output_type": "stream",
     "text": [
      "進度已更新，當前索引: 510\n"
     ]
    },
    {
     "name": "stderr",
     "output_type": "stream",
     "text": [
      "C:\\Users\\nicon\\AppData\\Local\\Temp\\ipykernel_32876\\2706685892.py:8: FutureWarning: Setting the `book` attribute is not part of the public API, usage can give unexpected or corrupted results and will be removed in a future version\n",
      "  writer.book = load_workbook(filename)\n",
      "C:\\Users\\nicon\\AppData\\Local\\Temp\\ipykernel_32876\\2706685892.py:22: FutureWarning: save is not part of the public API, usage can give unexpected results and will be removed in a future version\n",
      "  writer.save()\n"
     ]
    },
    {
     "name": "stdout",
     "output_type": "stream",
     "text": [
      "進度已更新，當前索引: 515\n"
     ]
    },
    {
     "name": "stderr",
     "output_type": "stream",
     "text": [
      "C:\\Users\\nicon\\AppData\\Local\\Temp\\ipykernel_32876\\2706685892.py:8: FutureWarning: Setting the `book` attribute is not part of the public API, usage can give unexpected or corrupted results and will be removed in a future version\n",
      "  writer.book = load_workbook(filename)\n",
      "C:\\Users\\nicon\\AppData\\Local\\Temp\\ipykernel_32876\\2706685892.py:22: FutureWarning: save is not part of the public API, usage can give unexpected results and will be removed in a future version\n",
      "  writer.save()\n"
     ]
    },
    {
     "name": "stdout",
     "output_type": "stream",
     "text": [
      "進度已更新，當前索引: 520\n"
     ]
    },
    {
     "name": "stderr",
     "output_type": "stream",
     "text": [
      "C:\\Users\\nicon\\AppData\\Local\\Temp\\ipykernel_32876\\2706685892.py:8: FutureWarning: Setting the `book` attribute is not part of the public API, usage can give unexpected or corrupted results and will be removed in a future version\n",
      "  writer.book = load_workbook(filename)\n",
      "C:\\Users\\nicon\\AppData\\Local\\Temp\\ipykernel_32876\\2706685892.py:22: FutureWarning: save is not part of the public API, usage can give unexpected results and will be removed in a future version\n",
      "  writer.save()\n"
     ]
    },
    {
     "name": "stdout",
     "output_type": "stream",
     "text": [
      "進度已更新，當前索引: 521\n"
     ]
    },
    {
     "name": "stderr",
     "output_type": "stream",
     "text": [
      "C:\\Users\\nicon\\AppData\\Local\\Temp\\ipykernel_32876\\2706685892.py:8: FutureWarning: Setting the `book` attribute is not part of the public API, usage can give unexpected or corrupted results and will be removed in a future version\n",
      "  writer.book = load_workbook(filename)\n",
      "C:\\Users\\nicon\\AppData\\Local\\Temp\\ipykernel_32876\\2706685892.py:22: FutureWarning: save is not part of the public API, usage can give unexpected results and will be removed in a future version\n",
      "  writer.save()\n"
     ]
    },
    {
     "name": "stdout",
     "output_type": "stream",
     "text": [
      "進度已更新，當前索引: 523\n"
     ]
    },
    {
     "name": "stderr",
     "output_type": "stream",
     "text": [
      "C:\\Users\\nicon\\AppData\\Local\\Temp\\ipykernel_32876\\2706685892.py:8: FutureWarning: Setting the `book` attribute is not part of the public API, usage can give unexpected or corrupted results and will be removed in a future version\n",
      "  writer.book = load_workbook(filename)\n",
      "C:\\Users\\nicon\\AppData\\Local\\Temp\\ipykernel_32876\\2706685892.py:22: FutureWarning: save is not part of the public API, usage can give unexpected results and will be removed in a future version\n",
      "  writer.save()\n"
     ]
    },
    {
     "name": "stdout",
     "output_type": "stream",
     "text": [
      "進度已更新，當前索引: 524\n"
     ]
    },
    {
     "name": "stderr",
     "output_type": "stream",
     "text": [
      "C:\\Users\\nicon\\AppData\\Local\\Temp\\ipykernel_32876\\2706685892.py:8: FutureWarning: Setting the `book` attribute is not part of the public API, usage can give unexpected or corrupted results and will be removed in a future version\n",
      "  writer.book = load_workbook(filename)\n",
      "C:\\Users\\nicon\\AppData\\Local\\Temp\\ipykernel_32876\\2706685892.py:22: FutureWarning: save is not part of the public API, usage can give unexpected results and will be removed in a future version\n",
      "  writer.save()\n"
     ]
    },
    {
     "name": "stdout",
     "output_type": "stream",
     "text": [
      "進度已更新，當前索引: 525\n"
     ]
    },
    {
     "name": "stderr",
     "output_type": "stream",
     "text": [
      "C:\\Users\\nicon\\AppData\\Local\\Temp\\ipykernel_32876\\2706685892.py:8: FutureWarning: Setting the `book` attribute is not part of the public API, usage can give unexpected or corrupted results and will be removed in a future version\n",
      "  writer.book = load_workbook(filename)\n",
      "C:\\Users\\nicon\\AppData\\Local\\Temp\\ipykernel_32876\\2706685892.py:22: FutureWarning: save is not part of the public API, usage can give unexpected results and will be removed in a future version\n",
      "  writer.save()\n"
     ]
    },
    {
     "name": "stdout",
     "output_type": "stream",
     "text": [
      "進度已更新，當前索引: 529\n"
     ]
    },
    {
     "name": "stderr",
     "output_type": "stream",
     "text": [
      "C:\\Users\\nicon\\AppData\\Local\\Temp\\ipykernel_32876\\2706685892.py:8: FutureWarning: Setting the `book` attribute is not part of the public API, usage can give unexpected or corrupted results and will be removed in a future version\n",
      "  writer.book = load_workbook(filename)\n",
      "C:\\Users\\nicon\\AppData\\Local\\Temp\\ipykernel_32876\\2706685892.py:22: FutureWarning: save is not part of the public API, usage can give unexpected results and will be removed in a future version\n",
      "  writer.save()\n"
     ]
    },
    {
     "name": "stdout",
     "output_type": "stream",
     "text": [
      "進度已更新，當前索引: 531\n"
     ]
    },
    {
     "name": "stderr",
     "output_type": "stream",
     "text": [
      "C:\\Users\\nicon\\AppData\\Local\\Temp\\ipykernel_32876\\2706685892.py:8: FutureWarning: Setting the `book` attribute is not part of the public API, usage can give unexpected or corrupted results and will be removed in a future version\n",
      "  writer.book = load_workbook(filename)\n",
      "C:\\Users\\nicon\\AppData\\Local\\Temp\\ipykernel_32876\\2706685892.py:22: FutureWarning: save is not part of the public API, usage can give unexpected results and will be removed in a future version\n",
      "  writer.save()\n"
     ]
    },
    {
     "name": "stdout",
     "output_type": "stream",
     "text": [
      "進度已更新，當前索引: 534\n"
     ]
    },
    {
     "name": "stderr",
     "output_type": "stream",
     "text": [
      "C:\\Users\\nicon\\AppData\\Local\\Temp\\ipykernel_32876\\2706685892.py:8: FutureWarning: Setting the `book` attribute is not part of the public API, usage can give unexpected or corrupted results and will be removed in a future version\n",
      "  writer.book = load_workbook(filename)\n",
      "C:\\Users\\nicon\\AppData\\Local\\Temp\\ipykernel_32876\\2706685892.py:22: FutureWarning: save is not part of the public API, usage can give unexpected results and will be removed in a future version\n",
      "  writer.save()\n"
     ]
    },
    {
     "name": "stdout",
     "output_type": "stream",
     "text": [
      "進度已更新，當前索引: 535\n"
     ]
    },
    {
     "name": "stderr",
     "output_type": "stream",
     "text": [
      "C:\\Users\\nicon\\AppData\\Local\\Temp\\ipykernel_32876\\2706685892.py:8: FutureWarning: Setting the `book` attribute is not part of the public API, usage can give unexpected or corrupted results and will be removed in a future version\n",
      "  writer.book = load_workbook(filename)\n",
      "C:\\Users\\nicon\\AppData\\Local\\Temp\\ipykernel_32876\\2706685892.py:22: FutureWarning: save is not part of the public API, usage can give unexpected results and will be removed in a future version\n",
      "  writer.save()\n"
     ]
    },
    {
     "name": "stdout",
     "output_type": "stream",
     "text": [
      "進度已更新，當前索引: 536\n"
     ]
    },
    {
     "name": "stderr",
     "output_type": "stream",
     "text": [
      "C:\\Users\\nicon\\AppData\\Local\\Temp\\ipykernel_32876\\2706685892.py:8: FutureWarning: Setting the `book` attribute is not part of the public API, usage can give unexpected or corrupted results and will be removed in a future version\n",
      "  writer.book = load_workbook(filename)\n",
      "C:\\Users\\nicon\\AppData\\Local\\Temp\\ipykernel_32876\\2706685892.py:22: FutureWarning: save is not part of the public API, usage can give unexpected results and will be removed in a future version\n",
      "  writer.save()\n"
     ]
    },
    {
     "name": "stdout",
     "output_type": "stream",
     "text": [
      "進度已更新，當前索引: 537\n"
     ]
    },
    {
     "name": "stderr",
     "output_type": "stream",
     "text": [
      "C:\\Users\\nicon\\AppData\\Local\\Temp\\ipykernel_32876\\2706685892.py:8: FutureWarning: Setting the `book` attribute is not part of the public API, usage can give unexpected or corrupted results and will be removed in a future version\n",
      "  writer.book = load_workbook(filename)\n",
      "C:\\Users\\nicon\\AppData\\Local\\Temp\\ipykernel_32876\\2706685892.py:22: FutureWarning: save is not part of the public API, usage can give unexpected results and will be removed in a future version\n",
      "  writer.save()\n"
     ]
    },
    {
     "name": "stdout",
     "output_type": "stream",
     "text": [
      "進度已更新，當前索引: 539\n"
     ]
    },
    {
     "name": "stderr",
     "output_type": "stream",
     "text": [
      "C:\\Users\\nicon\\AppData\\Local\\Temp\\ipykernel_32876\\2706685892.py:8: FutureWarning: Setting the `book` attribute is not part of the public API, usage can give unexpected or corrupted results and will be removed in a future version\n",
      "  writer.book = load_workbook(filename)\n",
      "C:\\Users\\nicon\\AppData\\Local\\Temp\\ipykernel_32876\\2706685892.py:22: FutureWarning: save is not part of the public API, usage can give unexpected results and will be removed in a future version\n",
      "  writer.save()\n"
     ]
    },
    {
     "name": "stdout",
     "output_type": "stream",
     "text": [
      "進度已更新，當前索引: 540\n"
     ]
    },
    {
     "name": "stderr",
     "output_type": "stream",
     "text": [
      "C:\\Users\\nicon\\AppData\\Local\\Temp\\ipykernel_32876\\2706685892.py:8: FutureWarning: Setting the `book` attribute is not part of the public API, usage can give unexpected or corrupted results and will be removed in a future version\n",
      "  writer.book = load_workbook(filename)\n",
      "C:\\Users\\nicon\\AppData\\Local\\Temp\\ipykernel_32876\\2706685892.py:22: FutureWarning: save is not part of the public API, usage can give unexpected results and will be removed in a future version\n",
      "  writer.save()\n"
     ]
    },
    {
     "name": "stdout",
     "output_type": "stream",
     "text": [
      "進度已更新，當前索引: 541\n"
     ]
    },
    {
     "name": "stderr",
     "output_type": "stream",
     "text": [
      "C:\\Users\\nicon\\AppData\\Local\\Temp\\ipykernel_32876\\2706685892.py:8: FutureWarning: Setting the `book` attribute is not part of the public API, usage can give unexpected or corrupted results and will be removed in a future version\n",
      "  writer.book = load_workbook(filename)\n",
      "C:\\Users\\nicon\\AppData\\Local\\Temp\\ipykernel_32876\\2706685892.py:22: FutureWarning: save is not part of the public API, usage can give unexpected results and will be removed in a future version\n",
      "  writer.save()\n"
     ]
    },
    {
     "name": "stdout",
     "output_type": "stream",
     "text": [
      "進度已更新，當前索引: 542\n"
     ]
    },
    {
     "name": "stderr",
     "output_type": "stream",
     "text": [
      "C:\\Users\\nicon\\AppData\\Local\\Temp\\ipykernel_32876\\2706685892.py:8: FutureWarning: Setting the `book` attribute is not part of the public API, usage can give unexpected or corrupted results and will be removed in a future version\n",
      "  writer.book = load_workbook(filename)\n",
      "C:\\Users\\nicon\\AppData\\Local\\Temp\\ipykernel_32876\\2706685892.py:22: FutureWarning: save is not part of the public API, usage can give unexpected results and will be removed in a future version\n",
      "  writer.save()\n"
     ]
    },
    {
     "name": "stdout",
     "output_type": "stream",
     "text": [
      "進度已更新，當前索引: 543\n"
     ]
    },
    {
     "name": "stderr",
     "output_type": "stream",
     "text": [
      "C:\\Users\\nicon\\AppData\\Local\\Temp\\ipykernel_32876\\2706685892.py:8: FutureWarning: Setting the `book` attribute is not part of the public API, usage can give unexpected or corrupted results and will be removed in a future version\n",
      "  writer.book = load_workbook(filename)\n",
      "C:\\Users\\nicon\\AppData\\Local\\Temp\\ipykernel_32876\\2706685892.py:22: FutureWarning: save is not part of the public API, usage can give unexpected results and will be removed in a future version\n",
      "  writer.save()\n"
     ]
    },
    {
     "name": "stdout",
     "output_type": "stream",
     "text": [
      "進度已更新，當前索引: 544\n"
     ]
    },
    {
     "name": "stderr",
     "output_type": "stream",
     "text": [
      "C:\\Users\\nicon\\AppData\\Local\\Temp\\ipykernel_32876\\2706685892.py:8: FutureWarning: Setting the `book` attribute is not part of the public API, usage can give unexpected or corrupted results and will be removed in a future version\n",
      "  writer.book = load_workbook(filename)\n",
      "C:\\Users\\nicon\\AppData\\Local\\Temp\\ipykernel_32876\\2706685892.py:22: FutureWarning: save is not part of the public API, usage can give unexpected results and will be removed in a future version\n",
      "  writer.save()\n"
     ]
    },
    {
     "name": "stdout",
     "output_type": "stream",
     "text": [
      "進度已更新，當前索引: 545\n"
     ]
    },
    {
     "name": "stderr",
     "output_type": "stream",
     "text": [
      "C:\\Users\\nicon\\AppData\\Local\\Temp\\ipykernel_32876\\2706685892.py:8: FutureWarning: Setting the `book` attribute is not part of the public API, usage can give unexpected or corrupted results and will be removed in a future version\n",
      "  writer.book = load_workbook(filename)\n",
      "C:\\Users\\nicon\\AppData\\Local\\Temp\\ipykernel_32876\\2706685892.py:22: FutureWarning: save is not part of the public API, usage can give unexpected results and will be removed in a future version\n",
      "  writer.save()\n"
     ]
    },
    {
     "name": "stdout",
     "output_type": "stream",
     "text": [
      "進度已更新，當前索引: 549\n"
     ]
    },
    {
     "name": "stderr",
     "output_type": "stream",
     "text": [
      "C:\\Users\\nicon\\AppData\\Local\\Temp\\ipykernel_32876\\2706685892.py:8: FutureWarning: Setting the `book` attribute is not part of the public API, usage can give unexpected or corrupted results and will be removed in a future version\n",
      "  writer.book = load_workbook(filename)\n",
      "C:\\Users\\nicon\\AppData\\Local\\Temp\\ipykernel_32876\\2706685892.py:22: FutureWarning: save is not part of the public API, usage can give unexpected results and will be removed in a future version\n",
      "  writer.save()\n"
     ]
    },
    {
     "name": "stdout",
     "output_type": "stream",
     "text": [
      "進度已更新，當前索引: 550\n"
     ]
    },
    {
     "name": "stderr",
     "output_type": "stream",
     "text": [
      "C:\\Users\\nicon\\AppData\\Local\\Temp\\ipykernel_32876\\2706685892.py:8: FutureWarning: Setting the `book` attribute is not part of the public API, usage can give unexpected or corrupted results and will be removed in a future version\n",
      "  writer.book = load_workbook(filename)\n",
      "C:\\Users\\nicon\\AppData\\Local\\Temp\\ipykernel_32876\\2706685892.py:22: FutureWarning: save is not part of the public API, usage can give unexpected results and will be removed in a future version\n",
      "  writer.save()\n"
     ]
    },
    {
     "name": "stdout",
     "output_type": "stream",
     "text": [
      "進度已更新，當前索引: 554\n"
     ]
    },
    {
     "name": "stderr",
     "output_type": "stream",
     "text": [
      "C:\\Users\\nicon\\AppData\\Local\\Temp\\ipykernel_32876\\2706685892.py:8: FutureWarning: Setting the `book` attribute is not part of the public API, usage can give unexpected or corrupted results and will be removed in a future version\n",
      "  writer.book = load_workbook(filename)\n",
      "C:\\Users\\nicon\\AppData\\Local\\Temp\\ipykernel_32876\\2706685892.py:22: FutureWarning: save is not part of the public API, usage can give unexpected results and will be removed in a future version\n",
      "  writer.save()\n"
     ]
    },
    {
     "name": "stdout",
     "output_type": "stream",
     "text": [
      "進度已更新，當前索引: 557\n"
     ]
    },
    {
     "name": "stderr",
     "output_type": "stream",
     "text": [
      "C:\\Users\\nicon\\AppData\\Local\\Temp\\ipykernel_32876\\2706685892.py:8: FutureWarning: Setting the `book` attribute is not part of the public API, usage can give unexpected or corrupted results and will be removed in a future version\n",
      "  writer.book = load_workbook(filename)\n",
      "C:\\Users\\nicon\\AppData\\Local\\Temp\\ipykernel_32876\\2706685892.py:22: FutureWarning: save is not part of the public API, usage can give unexpected results and will be removed in a future version\n",
      "  writer.save()\n"
     ]
    },
    {
     "name": "stdout",
     "output_type": "stream",
     "text": [
      "進度已更新，當前索引: 561\n"
     ]
    },
    {
     "name": "stderr",
     "output_type": "stream",
     "text": [
      "C:\\Users\\nicon\\AppData\\Local\\Temp\\ipykernel_32876\\2706685892.py:8: FutureWarning: Setting the `book` attribute is not part of the public API, usage can give unexpected or corrupted results and will be removed in a future version\n",
      "  writer.book = load_workbook(filename)\n",
      "C:\\Users\\nicon\\AppData\\Local\\Temp\\ipykernel_32876\\2706685892.py:22: FutureWarning: save is not part of the public API, usage can give unexpected results and will be removed in a future version\n",
      "  writer.save()\n"
     ]
    },
    {
     "name": "stdout",
     "output_type": "stream",
     "text": [
      "進度已更新，當前索引: 562\n"
     ]
    },
    {
     "name": "stderr",
     "output_type": "stream",
     "text": [
      "C:\\Users\\nicon\\AppData\\Local\\Temp\\ipykernel_32876\\2706685892.py:8: FutureWarning: Setting the `book` attribute is not part of the public API, usage can give unexpected or corrupted results and will be removed in a future version\n",
      "  writer.book = load_workbook(filename)\n",
      "C:\\Users\\nicon\\AppData\\Local\\Temp\\ipykernel_32876\\2706685892.py:22: FutureWarning: save is not part of the public API, usage can give unexpected results and will be removed in a future version\n",
      "  writer.save()\n"
     ]
    },
    {
     "name": "stdout",
     "output_type": "stream",
     "text": [
      "進度已更新，當前索引: 563\n"
     ]
    },
    {
     "name": "stderr",
     "output_type": "stream",
     "text": [
      "C:\\Users\\nicon\\AppData\\Local\\Temp\\ipykernel_32876\\2706685892.py:8: FutureWarning: Setting the `book` attribute is not part of the public API, usage can give unexpected or corrupted results and will be removed in a future version\n",
      "  writer.book = load_workbook(filename)\n",
      "C:\\Users\\nicon\\AppData\\Local\\Temp\\ipykernel_32876\\2706685892.py:22: FutureWarning: save is not part of the public API, usage can give unexpected results and will be removed in a future version\n",
      "  writer.save()\n"
     ]
    },
    {
     "name": "stdout",
     "output_type": "stream",
     "text": [
      "進度已更新，當前索引: 564\n"
     ]
    },
    {
     "name": "stderr",
     "output_type": "stream",
     "text": [
      "C:\\Users\\nicon\\AppData\\Local\\Temp\\ipykernel_32876\\2706685892.py:8: FutureWarning: Setting the `book` attribute is not part of the public API, usage can give unexpected or corrupted results and will be removed in a future version\n",
      "  writer.book = load_workbook(filename)\n",
      "C:\\Users\\nicon\\AppData\\Local\\Temp\\ipykernel_32876\\2706685892.py:22: FutureWarning: save is not part of the public API, usage can give unexpected results and will be removed in a future version\n",
      "  writer.save()\n"
     ]
    },
    {
     "name": "stdout",
     "output_type": "stream",
     "text": [
      "進度已更新，當前索引: 565\n"
     ]
    },
    {
     "name": "stderr",
     "output_type": "stream",
     "text": [
      "C:\\Users\\nicon\\AppData\\Local\\Temp\\ipykernel_32876\\2706685892.py:8: FutureWarning: Setting the `book` attribute is not part of the public API, usage can give unexpected or corrupted results and will be removed in a future version\n",
      "  writer.book = load_workbook(filename)\n",
      "C:\\Users\\nicon\\AppData\\Local\\Temp\\ipykernel_32876\\2706685892.py:22: FutureWarning: save is not part of the public API, usage can give unexpected results and will be removed in a future version\n",
      "  writer.save()\n"
     ]
    },
    {
     "name": "stdout",
     "output_type": "stream",
     "text": [
      "進度已更新，當前索引: 566\n"
     ]
    },
    {
     "name": "stderr",
     "output_type": "stream",
     "text": [
      "C:\\Users\\nicon\\AppData\\Local\\Temp\\ipykernel_32876\\2706685892.py:8: FutureWarning: Setting the `book` attribute is not part of the public API, usage can give unexpected or corrupted results and will be removed in a future version\n",
      "  writer.book = load_workbook(filename)\n",
      "C:\\Users\\nicon\\AppData\\Local\\Temp\\ipykernel_32876\\2706685892.py:22: FutureWarning: save is not part of the public API, usage can give unexpected results and will be removed in a future version\n",
      "  writer.save()\n"
     ]
    },
    {
     "name": "stdout",
     "output_type": "stream",
     "text": [
      "進度已更新，當前索引: 567\n"
     ]
    },
    {
     "name": "stderr",
     "output_type": "stream",
     "text": [
      "C:\\Users\\nicon\\AppData\\Local\\Temp\\ipykernel_32876\\2706685892.py:8: FutureWarning: Setting the `book` attribute is not part of the public API, usage can give unexpected or corrupted results and will be removed in a future version\n",
      "  writer.book = load_workbook(filename)\n",
      "C:\\Users\\nicon\\AppData\\Local\\Temp\\ipykernel_32876\\2706685892.py:22: FutureWarning: save is not part of the public API, usage can give unexpected results and will be removed in a future version\n",
      "  writer.save()\n"
     ]
    },
    {
     "name": "stdout",
     "output_type": "stream",
     "text": [
      "進度已更新，當前索引: 568\n"
     ]
    },
    {
     "name": "stderr",
     "output_type": "stream",
     "text": [
      "C:\\Users\\nicon\\AppData\\Local\\Temp\\ipykernel_32876\\2706685892.py:8: FutureWarning: Setting the `book` attribute is not part of the public API, usage can give unexpected or corrupted results and will be removed in a future version\n",
      "  writer.book = load_workbook(filename)\n",
      "C:\\Users\\nicon\\AppData\\Local\\Temp\\ipykernel_32876\\2706685892.py:22: FutureWarning: save is not part of the public API, usage can give unexpected results and will be removed in a future version\n",
      "  writer.save()\n"
     ]
    },
    {
     "name": "stdout",
     "output_type": "stream",
     "text": [
      "進度已更新，當前索引: 569\n"
     ]
    },
    {
     "name": "stderr",
     "output_type": "stream",
     "text": [
      "C:\\Users\\nicon\\AppData\\Local\\Temp\\ipykernel_32876\\2706685892.py:8: FutureWarning: Setting the `book` attribute is not part of the public API, usage can give unexpected or corrupted results and will be removed in a future version\n",
      "  writer.book = load_workbook(filename)\n",
      "C:\\Users\\nicon\\AppData\\Local\\Temp\\ipykernel_32876\\2706685892.py:22: FutureWarning: save is not part of the public API, usage can give unexpected results and will be removed in a future version\n",
      "  writer.save()\n"
     ]
    },
    {
     "name": "stdout",
     "output_type": "stream",
     "text": [
      "進度已更新，當前索引: 570\n"
     ]
    },
    {
     "name": "stderr",
     "output_type": "stream",
     "text": [
      "C:\\Users\\nicon\\AppData\\Local\\Temp\\ipykernel_32876\\2706685892.py:8: FutureWarning: Setting the `book` attribute is not part of the public API, usage can give unexpected or corrupted results and will be removed in a future version\n",
      "  writer.book = load_workbook(filename)\n",
      "C:\\Users\\nicon\\AppData\\Local\\Temp\\ipykernel_32876\\2706685892.py:22: FutureWarning: save is not part of the public API, usage can give unexpected results and will be removed in a future version\n",
      "  writer.save()\n"
     ]
    },
    {
     "name": "stdout",
     "output_type": "stream",
     "text": [
      "進度已更新，當前索引: 571\n"
     ]
    },
    {
     "name": "stderr",
     "output_type": "stream",
     "text": [
      "C:\\Users\\nicon\\AppData\\Local\\Temp\\ipykernel_32876\\2706685892.py:8: FutureWarning: Setting the `book` attribute is not part of the public API, usage can give unexpected or corrupted results and will be removed in a future version\n",
      "  writer.book = load_workbook(filename)\n",
      "C:\\Users\\nicon\\AppData\\Local\\Temp\\ipykernel_32876\\2706685892.py:22: FutureWarning: save is not part of the public API, usage can give unexpected results and will be removed in a future version\n",
      "  writer.save()\n"
     ]
    },
    {
     "name": "stdout",
     "output_type": "stream",
     "text": [
      "進度已更新，當前索引: 572\n"
     ]
    },
    {
     "name": "stderr",
     "output_type": "stream",
     "text": [
      "C:\\Users\\nicon\\AppData\\Local\\Temp\\ipykernel_32876\\2706685892.py:8: FutureWarning: Setting the `book` attribute is not part of the public API, usage can give unexpected or corrupted results and will be removed in a future version\n",
      "  writer.book = load_workbook(filename)\n",
      "C:\\Users\\nicon\\AppData\\Local\\Temp\\ipykernel_32876\\2706685892.py:22: FutureWarning: save is not part of the public API, usage can give unexpected results and will be removed in a future version\n",
      "  writer.save()\n"
     ]
    },
    {
     "name": "stdout",
     "output_type": "stream",
     "text": [
      "進度已更新，當前索引: 573\n"
     ]
    },
    {
     "name": "stderr",
     "output_type": "stream",
     "text": [
      "C:\\Users\\nicon\\AppData\\Local\\Temp\\ipykernel_32876\\2706685892.py:8: FutureWarning: Setting the `book` attribute is not part of the public API, usage can give unexpected or corrupted results and will be removed in a future version\n",
      "  writer.book = load_workbook(filename)\n",
      "C:\\Users\\nicon\\AppData\\Local\\Temp\\ipykernel_32876\\2706685892.py:22: FutureWarning: save is not part of the public API, usage can give unexpected results and will be removed in a future version\n",
      "  writer.save()\n"
     ]
    },
    {
     "name": "stdout",
     "output_type": "stream",
     "text": [
      "進度已更新，當前索引: 574\n"
     ]
    },
    {
     "name": "stderr",
     "output_type": "stream",
     "text": [
      "C:\\Users\\nicon\\AppData\\Local\\Temp\\ipykernel_32876\\2706685892.py:8: FutureWarning: Setting the `book` attribute is not part of the public API, usage can give unexpected or corrupted results and will be removed in a future version\n",
      "  writer.book = load_workbook(filename)\n",
      "C:\\Users\\nicon\\AppData\\Local\\Temp\\ipykernel_32876\\2706685892.py:22: FutureWarning: save is not part of the public API, usage can give unexpected results and will be removed in a future version\n",
      "  writer.save()\n"
     ]
    },
    {
     "name": "stdout",
     "output_type": "stream",
     "text": [
      "進度已更新，當前索引: 575\n"
     ]
    },
    {
     "name": "stderr",
     "output_type": "stream",
     "text": [
      "C:\\Users\\nicon\\AppData\\Local\\Temp\\ipykernel_32876\\2706685892.py:8: FutureWarning: Setting the `book` attribute is not part of the public API, usage can give unexpected or corrupted results and will be removed in a future version\n",
      "  writer.book = load_workbook(filename)\n",
      "C:\\Users\\nicon\\AppData\\Local\\Temp\\ipykernel_32876\\2706685892.py:22: FutureWarning: save is not part of the public API, usage can give unexpected results and will be removed in a future version\n",
      "  writer.save()\n"
     ]
    },
    {
     "name": "stdout",
     "output_type": "stream",
     "text": [
      "進度已更新，當前索引: 576\n"
     ]
    },
    {
     "name": "stderr",
     "output_type": "stream",
     "text": [
      "C:\\Users\\nicon\\AppData\\Local\\Temp\\ipykernel_32876\\2706685892.py:8: FutureWarning: Setting the `book` attribute is not part of the public API, usage can give unexpected or corrupted results and will be removed in a future version\n",
      "  writer.book = load_workbook(filename)\n",
      "C:\\Users\\nicon\\AppData\\Local\\Temp\\ipykernel_32876\\2706685892.py:22: FutureWarning: save is not part of the public API, usage can give unexpected results and will be removed in a future version\n",
      "  writer.save()\n"
     ]
    },
    {
     "name": "stdout",
     "output_type": "stream",
     "text": [
      "進度已更新，當前索引: 577\n"
     ]
    },
    {
     "name": "stderr",
     "output_type": "stream",
     "text": [
      "C:\\Users\\nicon\\AppData\\Local\\Temp\\ipykernel_32876\\2706685892.py:8: FutureWarning: Setting the `book` attribute is not part of the public API, usage can give unexpected or corrupted results and will be removed in a future version\n",
      "  writer.book = load_workbook(filename)\n",
      "C:\\Users\\nicon\\AppData\\Local\\Temp\\ipykernel_32876\\2706685892.py:22: FutureWarning: save is not part of the public API, usage can give unexpected results and will be removed in a future version\n",
      "  writer.save()\n"
     ]
    },
    {
     "name": "stdout",
     "output_type": "stream",
     "text": [
      "進度已更新，當前索引: 578\n"
     ]
    },
    {
     "name": "stderr",
     "output_type": "stream",
     "text": [
      "C:\\Users\\nicon\\AppData\\Local\\Temp\\ipykernel_32876\\2706685892.py:8: FutureWarning: Setting the `book` attribute is not part of the public API, usage can give unexpected or corrupted results and will be removed in a future version\n",
      "  writer.book = load_workbook(filename)\n",
      "C:\\Users\\nicon\\AppData\\Local\\Temp\\ipykernel_32876\\2706685892.py:22: FutureWarning: save is not part of the public API, usage can give unexpected results and will be removed in a future version\n",
      "  writer.save()\n"
     ]
    },
    {
     "name": "stdout",
     "output_type": "stream",
     "text": [
      "進度已更新，當前索引: 579\n"
     ]
    },
    {
     "name": "stderr",
     "output_type": "stream",
     "text": [
      "C:\\Users\\nicon\\AppData\\Local\\Temp\\ipykernel_32876\\2706685892.py:8: FutureWarning: Setting the `book` attribute is not part of the public API, usage can give unexpected or corrupted results and will be removed in a future version\n",
      "  writer.book = load_workbook(filename)\n",
      "C:\\Users\\nicon\\AppData\\Local\\Temp\\ipykernel_32876\\2706685892.py:22: FutureWarning: save is not part of the public API, usage can give unexpected results and will be removed in a future version\n",
      "  writer.save()\n"
     ]
    },
    {
     "name": "stdout",
     "output_type": "stream",
     "text": [
      "進度已更新，當前索引: 580\n"
     ]
    },
    {
     "name": "stderr",
     "output_type": "stream",
     "text": [
      "C:\\Users\\nicon\\AppData\\Local\\Temp\\ipykernel_32876\\2706685892.py:8: FutureWarning: Setting the `book` attribute is not part of the public API, usage can give unexpected or corrupted results and will be removed in a future version\n",
      "  writer.book = load_workbook(filename)\n",
      "C:\\Users\\nicon\\AppData\\Local\\Temp\\ipykernel_32876\\2706685892.py:22: FutureWarning: save is not part of the public API, usage can give unexpected results and will be removed in a future version\n",
      "  writer.save()\n"
     ]
    },
    {
     "name": "stdout",
     "output_type": "stream",
     "text": [
      "進度已更新，當前索引: 581\n"
     ]
    },
    {
     "name": "stderr",
     "output_type": "stream",
     "text": [
      "C:\\Users\\nicon\\AppData\\Local\\Temp\\ipykernel_32876\\2706685892.py:8: FutureWarning: Setting the `book` attribute is not part of the public API, usage can give unexpected or corrupted results and will be removed in a future version\n",
      "  writer.book = load_workbook(filename)\n",
      "C:\\Users\\nicon\\AppData\\Local\\Temp\\ipykernel_32876\\2706685892.py:22: FutureWarning: save is not part of the public API, usage can give unexpected results and will be removed in a future version\n",
      "  writer.save()\n"
     ]
    },
    {
     "name": "stdout",
     "output_type": "stream",
     "text": [
      "進度已更新，當前索引: 582\n"
     ]
    },
    {
     "name": "stderr",
     "output_type": "stream",
     "text": [
      "C:\\Users\\nicon\\AppData\\Local\\Temp\\ipykernel_32876\\2706685892.py:8: FutureWarning: Setting the `book` attribute is not part of the public API, usage can give unexpected or corrupted results and will be removed in a future version\n",
      "  writer.book = load_workbook(filename)\n",
      "C:\\Users\\nicon\\AppData\\Local\\Temp\\ipykernel_32876\\2706685892.py:22: FutureWarning: save is not part of the public API, usage can give unexpected results and will be removed in a future version\n",
      "  writer.save()\n"
     ]
    },
    {
     "name": "stdout",
     "output_type": "stream",
     "text": [
      "進度已更新，當前索引: 583\n"
     ]
    },
    {
     "name": "stderr",
     "output_type": "stream",
     "text": [
      "C:\\Users\\nicon\\AppData\\Local\\Temp\\ipykernel_32876\\2706685892.py:8: FutureWarning: Setting the `book` attribute is not part of the public API, usage can give unexpected or corrupted results and will be removed in a future version\n",
      "  writer.book = load_workbook(filename)\n",
      "C:\\Users\\nicon\\AppData\\Local\\Temp\\ipykernel_32876\\2706685892.py:22: FutureWarning: save is not part of the public API, usage can give unexpected results and will be removed in a future version\n",
      "  writer.save()\n"
     ]
    },
    {
     "name": "stdout",
     "output_type": "stream",
     "text": [
      "進度已更新，當前索引: 584\n"
     ]
    },
    {
     "name": "stderr",
     "output_type": "stream",
     "text": [
      "C:\\Users\\nicon\\AppData\\Local\\Temp\\ipykernel_32876\\2706685892.py:8: FutureWarning: Setting the `book` attribute is not part of the public API, usage can give unexpected or corrupted results and will be removed in a future version\n",
      "  writer.book = load_workbook(filename)\n",
      "C:\\Users\\nicon\\AppData\\Local\\Temp\\ipykernel_32876\\2706685892.py:22: FutureWarning: save is not part of the public API, usage can give unexpected results and will be removed in a future version\n",
      "  writer.save()\n"
     ]
    },
    {
     "name": "stdout",
     "output_type": "stream",
     "text": [
      "進度已更新，當前索引: 585\n"
     ]
    },
    {
     "name": "stderr",
     "output_type": "stream",
     "text": [
      "C:\\Users\\nicon\\AppData\\Local\\Temp\\ipykernel_32876\\2706685892.py:8: FutureWarning: Setting the `book` attribute is not part of the public API, usage can give unexpected or corrupted results and will be removed in a future version\n",
      "  writer.book = load_workbook(filename)\n",
      "C:\\Users\\nicon\\AppData\\Local\\Temp\\ipykernel_32876\\2706685892.py:22: FutureWarning: save is not part of the public API, usage can give unexpected results and will be removed in a future version\n",
      "  writer.save()\n"
     ]
    },
    {
     "name": "stdout",
     "output_type": "stream",
     "text": [
      "進度已更新，當前索引: 586\n"
     ]
    },
    {
     "name": "stderr",
     "output_type": "stream",
     "text": [
      "C:\\Users\\nicon\\AppData\\Local\\Temp\\ipykernel_32876\\2706685892.py:8: FutureWarning: Setting the `book` attribute is not part of the public API, usage can give unexpected or corrupted results and will be removed in a future version\n",
      "  writer.book = load_workbook(filename)\n",
      "C:\\Users\\nicon\\AppData\\Local\\Temp\\ipykernel_32876\\2706685892.py:22: FutureWarning: save is not part of the public API, usage can give unexpected results and will be removed in a future version\n",
      "  writer.save()\n"
     ]
    },
    {
     "name": "stdout",
     "output_type": "stream",
     "text": [
      "進度已更新，當前索引: 587\n"
     ]
    },
    {
     "name": "stderr",
     "output_type": "stream",
     "text": [
      "C:\\Users\\nicon\\AppData\\Local\\Temp\\ipykernel_32876\\2706685892.py:8: FutureWarning: Setting the `book` attribute is not part of the public API, usage can give unexpected or corrupted results and will be removed in a future version\n",
      "  writer.book = load_workbook(filename)\n",
      "C:\\Users\\nicon\\AppData\\Local\\Temp\\ipykernel_32876\\2706685892.py:22: FutureWarning: save is not part of the public API, usage can give unexpected results and will be removed in a future version\n",
      "  writer.save()\n"
     ]
    },
    {
     "name": "stdout",
     "output_type": "stream",
     "text": [
      "進度已更新，當前索引: 588\n"
     ]
    },
    {
     "name": "stderr",
     "output_type": "stream",
     "text": [
      "C:\\Users\\nicon\\AppData\\Local\\Temp\\ipykernel_32876\\2706685892.py:8: FutureWarning: Setting the `book` attribute is not part of the public API, usage can give unexpected or corrupted results and will be removed in a future version\n",
      "  writer.book = load_workbook(filename)\n",
      "C:\\Users\\nicon\\AppData\\Local\\Temp\\ipykernel_32876\\2706685892.py:22: FutureWarning: save is not part of the public API, usage can give unexpected results and will be removed in a future version\n",
      "  writer.save()\n"
     ]
    },
    {
     "name": "stdout",
     "output_type": "stream",
     "text": [
      "進度已更新，當前索引: 589\n"
     ]
    },
    {
     "name": "stderr",
     "output_type": "stream",
     "text": [
      "C:\\Users\\nicon\\AppData\\Local\\Temp\\ipykernel_32876\\2706685892.py:8: FutureWarning: Setting the `book` attribute is not part of the public API, usage can give unexpected or corrupted results and will be removed in a future version\n",
      "  writer.book = load_workbook(filename)\n",
      "C:\\Users\\nicon\\AppData\\Local\\Temp\\ipykernel_32876\\2706685892.py:22: FutureWarning: save is not part of the public API, usage can give unexpected results and will be removed in a future version\n",
      "  writer.save()\n"
     ]
    },
    {
     "name": "stdout",
     "output_type": "stream",
     "text": [
      "進度已更新，當前索引: 590\n"
     ]
    },
    {
     "name": "stderr",
     "output_type": "stream",
     "text": [
      "C:\\Users\\nicon\\AppData\\Local\\Temp\\ipykernel_32876\\2706685892.py:8: FutureWarning: Setting the `book` attribute is not part of the public API, usage can give unexpected or corrupted results and will be removed in a future version\n",
      "  writer.book = load_workbook(filename)\n",
      "C:\\Users\\nicon\\AppData\\Local\\Temp\\ipykernel_32876\\2706685892.py:22: FutureWarning: save is not part of the public API, usage can give unexpected results and will be removed in a future version\n",
      "  writer.save()\n"
     ]
    },
    {
     "name": "stdout",
     "output_type": "stream",
     "text": [
      "進度已更新，當前索引: 591\n"
     ]
    },
    {
     "name": "stderr",
     "output_type": "stream",
     "text": [
      "C:\\Users\\nicon\\AppData\\Local\\Temp\\ipykernel_32876\\2706685892.py:8: FutureWarning: Setting the `book` attribute is not part of the public API, usage can give unexpected or corrupted results and will be removed in a future version\n",
      "  writer.book = load_workbook(filename)\n",
      "C:\\Users\\nicon\\AppData\\Local\\Temp\\ipykernel_32876\\2706685892.py:22: FutureWarning: save is not part of the public API, usage can give unexpected results and will be removed in a future version\n",
      "  writer.save()\n"
     ]
    },
    {
     "name": "stdout",
     "output_type": "stream",
     "text": [
      "進度已更新，當前索引: 592\n"
     ]
    },
    {
     "name": "stderr",
     "output_type": "stream",
     "text": [
      "C:\\Users\\nicon\\AppData\\Local\\Temp\\ipykernel_32876\\2706685892.py:8: FutureWarning: Setting the `book` attribute is not part of the public API, usage can give unexpected or corrupted results and will be removed in a future version\n",
      "  writer.book = load_workbook(filename)\n",
      "C:\\Users\\nicon\\AppData\\Local\\Temp\\ipykernel_32876\\2706685892.py:22: FutureWarning: save is not part of the public API, usage can give unexpected results and will be removed in a future version\n",
      "  writer.save()\n"
     ]
    },
    {
     "name": "stdout",
     "output_type": "stream",
     "text": [
      "進度已更新，當前索引: 593\n"
     ]
    },
    {
     "name": "stderr",
     "output_type": "stream",
     "text": [
      "C:\\Users\\nicon\\AppData\\Local\\Temp\\ipykernel_32876\\2706685892.py:8: FutureWarning: Setting the `book` attribute is not part of the public API, usage can give unexpected or corrupted results and will be removed in a future version\n",
      "  writer.book = load_workbook(filename)\n",
      "C:\\Users\\nicon\\AppData\\Local\\Temp\\ipykernel_32876\\2706685892.py:22: FutureWarning: save is not part of the public API, usage can give unexpected results and will be removed in a future version\n",
      "  writer.save()\n"
     ]
    },
    {
     "name": "stdout",
     "output_type": "stream",
     "text": [
      "進度已更新，當前索引: 594\n"
     ]
    },
    {
     "name": "stderr",
     "output_type": "stream",
     "text": [
      "C:\\Users\\nicon\\AppData\\Local\\Temp\\ipykernel_32876\\2706685892.py:8: FutureWarning: Setting the `book` attribute is not part of the public API, usage can give unexpected or corrupted results and will be removed in a future version\n",
      "  writer.book = load_workbook(filename)\n",
      "C:\\Users\\nicon\\AppData\\Local\\Temp\\ipykernel_32876\\2706685892.py:22: FutureWarning: save is not part of the public API, usage can give unexpected results and will be removed in a future version\n",
      "  writer.save()\n"
     ]
    },
    {
     "name": "stdout",
     "output_type": "stream",
     "text": [
      "進度已更新，當前索引: 595\n"
     ]
    },
    {
     "name": "stderr",
     "output_type": "stream",
     "text": [
      "C:\\Users\\nicon\\AppData\\Local\\Temp\\ipykernel_32876\\2706685892.py:8: FutureWarning: Setting the `book` attribute is not part of the public API, usage can give unexpected or corrupted results and will be removed in a future version\n",
      "  writer.book = load_workbook(filename)\n",
      "C:\\Users\\nicon\\AppData\\Local\\Temp\\ipykernel_32876\\2706685892.py:22: FutureWarning: save is not part of the public API, usage can give unexpected results and will be removed in a future version\n",
      "  writer.save()\n"
     ]
    },
    {
     "name": "stdout",
     "output_type": "stream",
     "text": [
      "進度已更新，當前索引: 596\n"
     ]
    },
    {
     "name": "stderr",
     "output_type": "stream",
     "text": [
      "C:\\Users\\nicon\\AppData\\Local\\Temp\\ipykernel_32876\\2706685892.py:8: FutureWarning: Setting the `book` attribute is not part of the public API, usage can give unexpected or corrupted results and will be removed in a future version\n",
      "  writer.book = load_workbook(filename)\n",
      "C:\\Users\\nicon\\AppData\\Local\\Temp\\ipykernel_32876\\2706685892.py:22: FutureWarning: save is not part of the public API, usage can give unexpected results and will be removed in a future version\n",
      "  writer.save()\n"
     ]
    },
    {
     "name": "stdout",
     "output_type": "stream",
     "text": [
      "進度已更新，當前索引: 597\n"
     ]
    },
    {
     "name": "stderr",
     "output_type": "stream",
     "text": [
      "C:\\Users\\nicon\\AppData\\Local\\Temp\\ipykernel_32876\\2706685892.py:8: FutureWarning: Setting the `book` attribute is not part of the public API, usage can give unexpected or corrupted results and will be removed in a future version\n",
      "  writer.book = load_workbook(filename)\n",
      "C:\\Users\\nicon\\AppData\\Local\\Temp\\ipykernel_32876\\2706685892.py:22: FutureWarning: save is not part of the public API, usage can give unexpected results and will be removed in a future version\n",
      "  writer.save()\n"
     ]
    },
    {
     "name": "stdout",
     "output_type": "stream",
     "text": [
      "進度已更新，當前索引: 598\n"
     ]
    },
    {
     "name": "stderr",
     "output_type": "stream",
     "text": [
      "C:\\Users\\nicon\\AppData\\Local\\Temp\\ipykernel_32876\\2706685892.py:8: FutureWarning: Setting the `book` attribute is not part of the public API, usage can give unexpected or corrupted results and will be removed in a future version\n",
      "  writer.book = load_workbook(filename)\n",
      "C:\\Users\\nicon\\AppData\\Local\\Temp\\ipykernel_32876\\2706685892.py:22: FutureWarning: save is not part of the public API, usage can give unexpected results and will be removed in a future version\n",
      "  writer.save()\n"
     ]
    },
    {
     "name": "stdout",
     "output_type": "stream",
     "text": [
      "進度已更新，當前索引: 599\n"
     ]
    },
    {
     "name": "stderr",
     "output_type": "stream",
     "text": [
      "C:\\Users\\nicon\\AppData\\Local\\Temp\\ipykernel_32876\\2706685892.py:8: FutureWarning: Setting the `book` attribute is not part of the public API, usage can give unexpected or corrupted results and will be removed in a future version\n",
      "  writer.book = load_workbook(filename)\n",
      "C:\\Users\\nicon\\AppData\\Local\\Temp\\ipykernel_32876\\2706685892.py:22: FutureWarning: save is not part of the public API, usage can give unexpected results and will be removed in a future version\n",
      "  writer.save()\n"
     ]
    },
    {
     "name": "stdout",
     "output_type": "stream",
     "text": [
      "進度已更新，當前索引: 600\n"
     ]
    },
    {
     "name": "stderr",
     "output_type": "stream",
     "text": [
      "C:\\Users\\nicon\\AppData\\Local\\Temp\\ipykernel_32876\\2706685892.py:8: FutureWarning: Setting the `book` attribute is not part of the public API, usage can give unexpected or corrupted results and will be removed in a future version\n",
      "  writer.book = load_workbook(filename)\n",
      "C:\\Users\\nicon\\AppData\\Local\\Temp\\ipykernel_32876\\2706685892.py:22: FutureWarning: save is not part of the public API, usage can give unexpected results and will be removed in a future version\n",
      "  writer.save()\n"
     ]
    },
    {
     "name": "stdout",
     "output_type": "stream",
     "text": [
      "進度已更新，當前索引: 601\n"
     ]
    },
    {
     "name": "stderr",
     "output_type": "stream",
     "text": [
      "C:\\Users\\nicon\\AppData\\Local\\Temp\\ipykernel_32876\\2706685892.py:8: FutureWarning: Setting the `book` attribute is not part of the public API, usage can give unexpected or corrupted results and will be removed in a future version\n",
      "  writer.book = load_workbook(filename)\n",
      "C:\\Users\\nicon\\AppData\\Local\\Temp\\ipykernel_32876\\2706685892.py:22: FutureWarning: save is not part of the public API, usage can give unexpected results and will be removed in a future version\n",
      "  writer.save()\n"
     ]
    },
    {
     "name": "stdout",
     "output_type": "stream",
     "text": [
      "進度已更新，當前索引: 606\n"
     ]
    },
    {
     "name": "stderr",
     "output_type": "stream",
     "text": [
      "C:\\Users\\nicon\\AppData\\Local\\Temp\\ipykernel_32876\\2706685892.py:8: FutureWarning: Setting the `book` attribute is not part of the public API, usage can give unexpected or corrupted results and will be removed in a future version\n",
      "  writer.book = load_workbook(filename)\n",
      "C:\\Users\\nicon\\AppData\\Local\\Temp\\ipykernel_32876\\2706685892.py:22: FutureWarning: save is not part of the public API, usage can give unexpected results and will be removed in a future version\n",
      "  writer.save()\n"
     ]
    },
    {
     "name": "stdout",
     "output_type": "stream",
     "text": [
      "進度已更新，當前索引: 608\n"
     ]
    },
    {
     "name": "stderr",
     "output_type": "stream",
     "text": [
      "C:\\Users\\nicon\\AppData\\Local\\Temp\\ipykernel_32876\\2706685892.py:8: FutureWarning: Setting the `book` attribute is not part of the public API, usage can give unexpected or corrupted results and will be removed in a future version\n",
      "  writer.book = load_workbook(filename)\n",
      "C:\\Users\\nicon\\AppData\\Local\\Temp\\ipykernel_32876\\2706685892.py:22: FutureWarning: save is not part of the public API, usage can give unexpected results and will be removed in a future version\n",
      "  writer.save()\n"
     ]
    },
    {
     "name": "stdout",
     "output_type": "stream",
     "text": [
      "進度已更新，當前索引: 609\n"
     ]
    },
    {
     "name": "stderr",
     "output_type": "stream",
     "text": [
      "C:\\Users\\nicon\\AppData\\Local\\Temp\\ipykernel_32876\\2706685892.py:8: FutureWarning: Setting the `book` attribute is not part of the public API, usage can give unexpected or corrupted results and will be removed in a future version\n",
      "  writer.book = load_workbook(filename)\n",
      "C:\\Users\\nicon\\AppData\\Local\\Temp\\ipykernel_32876\\2706685892.py:22: FutureWarning: save is not part of the public API, usage can give unexpected results and will be removed in a future version\n",
      "  writer.save()\n"
     ]
    },
    {
     "name": "stdout",
     "output_type": "stream",
     "text": [
      "進度已更新，當前索引: 611\n"
     ]
    },
    {
     "name": "stderr",
     "output_type": "stream",
     "text": [
      "C:\\Users\\nicon\\AppData\\Local\\Temp\\ipykernel_32876\\2706685892.py:8: FutureWarning: Setting the `book` attribute is not part of the public API, usage can give unexpected or corrupted results and will be removed in a future version\n",
      "  writer.book = load_workbook(filename)\n",
      "C:\\Users\\nicon\\AppData\\Local\\Temp\\ipykernel_32876\\2706685892.py:22: FutureWarning: save is not part of the public API, usage can give unexpected results and will be removed in a future version\n",
      "  writer.save()\n"
     ]
    },
    {
     "name": "stdout",
     "output_type": "stream",
     "text": [
      "進度已更新，當前索引: 613\n"
     ]
    },
    {
     "name": "stderr",
     "output_type": "stream",
     "text": [
      "C:\\Users\\nicon\\AppData\\Local\\Temp\\ipykernel_32876\\2706685892.py:8: FutureWarning: Setting the `book` attribute is not part of the public API, usage can give unexpected or corrupted results and will be removed in a future version\n",
      "  writer.book = load_workbook(filename)\n",
      "C:\\Users\\nicon\\AppData\\Local\\Temp\\ipykernel_32876\\2706685892.py:22: FutureWarning: save is not part of the public API, usage can give unexpected results and will be removed in a future version\n",
      "  writer.save()\n"
     ]
    },
    {
     "name": "stdout",
     "output_type": "stream",
     "text": [
      "進度已更新，當前索引: 614\n"
     ]
    },
    {
     "name": "stderr",
     "output_type": "stream",
     "text": [
      "C:\\Users\\nicon\\AppData\\Local\\Temp\\ipykernel_32876\\2706685892.py:8: FutureWarning: Setting the `book` attribute is not part of the public API, usage can give unexpected or corrupted results and will be removed in a future version\n",
      "  writer.book = load_workbook(filename)\n",
      "C:\\Users\\nicon\\AppData\\Local\\Temp\\ipykernel_32876\\2706685892.py:22: FutureWarning: save is not part of the public API, usage can give unexpected results and will be removed in a future version\n",
      "  writer.save()\n"
     ]
    },
    {
     "name": "stdout",
     "output_type": "stream",
     "text": [
      "進度已更新，當前索引: 616\n"
     ]
    },
    {
     "name": "stderr",
     "output_type": "stream",
     "text": [
      "C:\\Users\\nicon\\AppData\\Local\\Temp\\ipykernel_32876\\2706685892.py:8: FutureWarning: Setting the `book` attribute is not part of the public API, usage can give unexpected or corrupted results and will be removed in a future version\n",
      "  writer.book = load_workbook(filename)\n",
      "C:\\Users\\nicon\\AppData\\Local\\Temp\\ipykernel_32876\\2706685892.py:22: FutureWarning: save is not part of the public API, usage can give unexpected results and will be removed in a future version\n",
      "  writer.save()\n"
     ]
    },
    {
     "name": "stdout",
     "output_type": "stream",
     "text": [
      "進度已更新，當前索引: 617\n"
     ]
    },
    {
     "name": "stderr",
     "output_type": "stream",
     "text": [
      "C:\\Users\\nicon\\AppData\\Local\\Temp\\ipykernel_32876\\2706685892.py:8: FutureWarning: Setting the `book` attribute is not part of the public API, usage can give unexpected or corrupted results and will be removed in a future version\n",
      "  writer.book = load_workbook(filename)\n",
      "C:\\Users\\nicon\\AppData\\Local\\Temp\\ipykernel_32876\\2706685892.py:22: FutureWarning: save is not part of the public API, usage can give unexpected results and will be removed in a future version\n",
      "  writer.save()\n"
     ]
    },
    {
     "name": "stdout",
     "output_type": "stream",
     "text": [
      "進度已更新，當前索引: 620\n"
     ]
    },
    {
     "name": "stderr",
     "output_type": "stream",
     "text": [
      "C:\\Users\\nicon\\AppData\\Local\\Temp\\ipykernel_32876\\2706685892.py:8: FutureWarning: Setting the `book` attribute is not part of the public API, usage can give unexpected or corrupted results and will be removed in a future version\n",
      "  writer.book = load_workbook(filename)\n",
      "C:\\Users\\nicon\\AppData\\Local\\Temp\\ipykernel_32876\\2706685892.py:22: FutureWarning: save is not part of the public API, usage can give unexpected results and will be removed in a future version\n",
      "  writer.save()\n"
     ]
    },
    {
     "name": "stdout",
     "output_type": "stream",
     "text": [
      "進度已更新，當前索引: 626\n"
     ]
    },
    {
     "name": "stderr",
     "output_type": "stream",
     "text": [
      "C:\\Users\\nicon\\AppData\\Local\\Temp\\ipykernel_32876\\2706685892.py:8: FutureWarning: Setting the `book` attribute is not part of the public API, usage can give unexpected or corrupted results and will be removed in a future version\n",
      "  writer.book = load_workbook(filename)\n",
      "C:\\Users\\nicon\\AppData\\Local\\Temp\\ipykernel_32876\\2706685892.py:22: FutureWarning: save is not part of the public API, usage can give unexpected results and will be removed in a future version\n",
      "  writer.save()\n"
     ]
    },
    {
     "name": "stdout",
     "output_type": "stream",
     "text": [
      "進度已更新，當前索引: 636\n"
     ]
    },
    {
     "name": "stderr",
     "output_type": "stream",
     "text": [
      "C:\\Users\\nicon\\AppData\\Local\\Temp\\ipykernel_32876\\2706685892.py:8: FutureWarning: Setting the `book` attribute is not part of the public API, usage can give unexpected or corrupted results and will be removed in a future version\n",
      "  writer.book = load_workbook(filename)\n",
      "C:\\Users\\nicon\\AppData\\Local\\Temp\\ipykernel_32876\\2706685892.py:22: FutureWarning: save is not part of the public API, usage can give unexpected results and will be removed in a future version\n",
      "  writer.save()\n"
     ]
    },
    {
     "name": "stdout",
     "output_type": "stream",
     "text": [
      "進度已更新，當前索引: 640\n"
     ]
    },
    {
     "name": "stderr",
     "output_type": "stream",
     "text": [
      "C:\\Users\\nicon\\AppData\\Local\\Temp\\ipykernel_32876\\2706685892.py:8: FutureWarning: Setting the `book` attribute is not part of the public API, usage can give unexpected or corrupted results and will be removed in a future version\n",
      "  writer.book = load_workbook(filename)\n",
      "C:\\Users\\nicon\\AppData\\Local\\Temp\\ipykernel_32876\\2706685892.py:22: FutureWarning: save is not part of the public API, usage can give unexpected results and will be removed in a future version\n",
      "  writer.save()\n"
     ]
    },
    {
     "name": "stdout",
     "output_type": "stream",
     "text": [
      "進度已更新，當前索引: 641\n"
     ]
    },
    {
     "name": "stderr",
     "output_type": "stream",
     "text": [
      "C:\\Users\\nicon\\AppData\\Local\\Temp\\ipykernel_32876\\2706685892.py:8: FutureWarning: Setting the `book` attribute is not part of the public API, usage can give unexpected or corrupted results and will be removed in a future version\n",
      "  writer.book = load_workbook(filename)\n",
      "C:\\Users\\nicon\\AppData\\Local\\Temp\\ipykernel_32876\\2706685892.py:22: FutureWarning: save is not part of the public API, usage can give unexpected results and will be removed in a future version\n",
      "  writer.save()\n"
     ]
    },
    {
     "name": "stdout",
     "output_type": "stream",
     "text": [
      "進度已更新，當前索引: 642\n"
     ]
    },
    {
     "name": "stderr",
     "output_type": "stream",
     "text": [
      "C:\\Users\\nicon\\AppData\\Local\\Temp\\ipykernel_32876\\2706685892.py:8: FutureWarning: Setting the `book` attribute is not part of the public API, usage can give unexpected or corrupted results and will be removed in a future version\n",
      "  writer.book = load_workbook(filename)\n",
      "C:\\Users\\nicon\\AppData\\Local\\Temp\\ipykernel_32876\\2706685892.py:22: FutureWarning: save is not part of the public API, usage can give unexpected results and will be removed in a future version\n",
      "  writer.save()\n"
     ]
    },
    {
     "name": "stdout",
     "output_type": "stream",
     "text": [
      "進度已更新，當前索引: 643\n"
     ]
    },
    {
     "name": "stderr",
     "output_type": "stream",
     "text": [
      "C:\\Users\\nicon\\AppData\\Local\\Temp\\ipykernel_32876\\2706685892.py:8: FutureWarning: Setting the `book` attribute is not part of the public API, usage can give unexpected or corrupted results and will be removed in a future version\n",
      "  writer.book = load_workbook(filename)\n",
      "C:\\Users\\nicon\\AppData\\Local\\Temp\\ipykernel_32876\\2706685892.py:22: FutureWarning: save is not part of the public API, usage can give unexpected results and will be removed in a future version\n",
      "  writer.save()\n"
     ]
    },
    {
     "name": "stdout",
     "output_type": "stream",
     "text": [
      "進度已更新，當前索引: 644\n"
     ]
    },
    {
     "name": "stderr",
     "output_type": "stream",
     "text": [
      "C:\\Users\\nicon\\AppData\\Local\\Temp\\ipykernel_32876\\2706685892.py:8: FutureWarning: Setting the `book` attribute is not part of the public API, usage can give unexpected or corrupted results and will be removed in a future version\n",
      "  writer.book = load_workbook(filename)\n",
      "C:\\Users\\nicon\\AppData\\Local\\Temp\\ipykernel_32876\\2706685892.py:22: FutureWarning: save is not part of the public API, usage can give unexpected results and will be removed in a future version\n",
      "  writer.save()\n"
     ]
    },
    {
     "name": "stdout",
     "output_type": "stream",
     "text": [
      "進度已更新，當前索引: 646\n"
     ]
    },
    {
     "name": "stderr",
     "output_type": "stream",
     "text": [
      "C:\\Users\\nicon\\AppData\\Local\\Temp\\ipykernel_32876\\2706685892.py:8: FutureWarning: Setting the `book` attribute is not part of the public API, usage can give unexpected or corrupted results and will be removed in a future version\n",
      "  writer.book = load_workbook(filename)\n",
      "C:\\Users\\nicon\\AppData\\Local\\Temp\\ipykernel_32876\\2706685892.py:22: FutureWarning: save is not part of the public API, usage can give unexpected results and will be removed in a future version\n",
      "  writer.save()\n"
     ]
    },
    {
     "name": "stdout",
     "output_type": "stream",
     "text": [
      "進度已更新，當前索引: 647\n"
     ]
    },
    {
     "name": "stderr",
     "output_type": "stream",
     "text": [
      "C:\\Users\\nicon\\AppData\\Local\\Temp\\ipykernel_32876\\2706685892.py:8: FutureWarning: Setting the `book` attribute is not part of the public API, usage can give unexpected or corrupted results and will be removed in a future version\n",
      "  writer.book = load_workbook(filename)\n",
      "C:\\Users\\nicon\\AppData\\Local\\Temp\\ipykernel_32876\\2706685892.py:22: FutureWarning: save is not part of the public API, usage can give unexpected results and will be removed in a future version\n",
      "  writer.save()\n"
     ]
    },
    {
     "name": "stdout",
     "output_type": "stream",
     "text": [
      "進度已更新，當前索引: 648\n"
     ]
    },
    {
     "name": "stderr",
     "output_type": "stream",
     "text": [
      "C:\\Users\\nicon\\AppData\\Local\\Temp\\ipykernel_32876\\2706685892.py:8: FutureWarning: Setting the `book` attribute is not part of the public API, usage can give unexpected or corrupted results and will be removed in a future version\n",
      "  writer.book = load_workbook(filename)\n",
      "C:\\Users\\nicon\\AppData\\Local\\Temp\\ipykernel_32876\\2706685892.py:22: FutureWarning: save is not part of the public API, usage can give unexpected results and will be removed in a future version\n",
      "  writer.save()\n"
     ]
    },
    {
     "name": "stdout",
     "output_type": "stream",
     "text": [
      "進度已更新，當前索引: 649\n"
     ]
    },
    {
     "name": "stderr",
     "output_type": "stream",
     "text": [
      "C:\\Users\\nicon\\AppData\\Local\\Temp\\ipykernel_32876\\2706685892.py:8: FutureWarning: Setting the `book` attribute is not part of the public API, usage can give unexpected or corrupted results and will be removed in a future version\n",
      "  writer.book = load_workbook(filename)\n",
      "C:\\Users\\nicon\\AppData\\Local\\Temp\\ipykernel_32876\\2706685892.py:22: FutureWarning: save is not part of the public API, usage can give unexpected results and will be removed in a future version\n",
      "  writer.save()\n"
     ]
    },
    {
     "name": "stdout",
     "output_type": "stream",
     "text": [
      "進度已更新，當前索引: 651\n"
     ]
    },
    {
     "name": "stderr",
     "output_type": "stream",
     "text": [
      "C:\\Users\\nicon\\AppData\\Local\\Temp\\ipykernel_32876\\2706685892.py:8: FutureWarning: Setting the `book` attribute is not part of the public API, usage can give unexpected or corrupted results and will be removed in a future version\n",
      "  writer.book = load_workbook(filename)\n",
      "C:\\Users\\nicon\\AppData\\Local\\Temp\\ipykernel_32876\\2706685892.py:22: FutureWarning: save is not part of the public API, usage can give unexpected results and will be removed in a future version\n",
      "  writer.save()\n"
     ]
    },
    {
     "name": "stdout",
     "output_type": "stream",
     "text": [
      "進度已更新，當前索引: 652\n"
     ]
    },
    {
     "name": "stderr",
     "output_type": "stream",
     "text": [
      "C:\\Users\\nicon\\AppData\\Local\\Temp\\ipykernel_32876\\2706685892.py:8: FutureWarning: Setting the `book` attribute is not part of the public API, usage can give unexpected or corrupted results and will be removed in a future version\n",
      "  writer.book = load_workbook(filename)\n",
      "C:\\Users\\nicon\\AppData\\Local\\Temp\\ipykernel_32876\\2706685892.py:22: FutureWarning: save is not part of the public API, usage can give unexpected results and will be removed in a future version\n",
      "  writer.save()\n"
     ]
    },
    {
     "name": "stdout",
     "output_type": "stream",
     "text": [
      "進度已更新，當前索引: 653\n"
     ]
    },
    {
     "name": "stderr",
     "output_type": "stream",
     "text": [
      "C:\\Users\\nicon\\AppData\\Local\\Temp\\ipykernel_32876\\2706685892.py:8: FutureWarning: Setting the `book` attribute is not part of the public API, usage can give unexpected or corrupted results and will be removed in a future version\n",
      "  writer.book = load_workbook(filename)\n",
      "C:\\Users\\nicon\\AppData\\Local\\Temp\\ipykernel_32876\\2706685892.py:22: FutureWarning: save is not part of the public API, usage can give unexpected results and will be removed in a future version\n",
      "  writer.save()\n"
     ]
    },
    {
     "name": "stdout",
     "output_type": "stream",
     "text": [
      "進度已更新，當前索引: 654\n"
     ]
    },
    {
     "name": "stderr",
     "output_type": "stream",
     "text": [
      "C:\\Users\\nicon\\AppData\\Local\\Temp\\ipykernel_32876\\2706685892.py:8: FutureWarning: Setting the `book` attribute is not part of the public API, usage can give unexpected or corrupted results and will be removed in a future version\n",
      "  writer.book = load_workbook(filename)\n",
      "C:\\Users\\nicon\\AppData\\Local\\Temp\\ipykernel_32876\\2706685892.py:22: FutureWarning: save is not part of the public API, usage can give unexpected results and will be removed in a future version\n",
      "  writer.save()\n"
     ]
    },
    {
     "name": "stdout",
     "output_type": "stream",
     "text": [
      "進度已更新，當前索引: 656\n"
     ]
    },
    {
     "name": "stderr",
     "output_type": "stream",
     "text": [
      "C:\\Users\\nicon\\AppData\\Local\\Temp\\ipykernel_32876\\2706685892.py:8: FutureWarning: Setting the `book` attribute is not part of the public API, usage can give unexpected or corrupted results and will be removed in a future version\n",
      "  writer.book = load_workbook(filename)\n",
      "C:\\Users\\nicon\\AppData\\Local\\Temp\\ipykernel_32876\\2706685892.py:22: FutureWarning: save is not part of the public API, usage can give unexpected results and will be removed in a future version\n",
      "  writer.save()\n"
     ]
    },
    {
     "name": "stdout",
     "output_type": "stream",
     "text": [
      "進度已更新，當前索引: 657\n"
     ]
    },
    {
     "name": "stderr",
     "output_type": "stream",
     "text": [
      "C:\\Users\\nicon\\AppData\\Local\\Temp\\ipykernel_32876\\2706685892.py:8: FutureWarning: Setting the `book` attribute is not part of the public API, usage can give unexpected or corrupted results and will be removed in a future version\n",
      "  writer.book = load_workbook(filename)\n",
      "C:\\Users\\nicon\\AppData\\Local\\Temp\\ipykernel_32876\\2706685892.py:22: FutureWarning: save is not part of the public API, usage can give unexpected results and will be removed in a future version\n",
      "  writer.save()\n"
     ]
    },
    {
     "name": "stdout",
     "output_type": "stream",
     "text": [
      "進度已更新，當前索引: 658\n"
     ]
    },
    {
     "name": "stderr",
     "output_type": "stream",
     "text": [
      "C:\\Users\\nicon\\AppData\\Local\\Temp\\ipykernel_32876\\2706685892.py:8: FutureWarning: Setting the `book` attribute is not part of the public API, usage can give unexpected or corrupted results and will be removed in a future version\n",
      "  writer.book = load_workbook(filename)\n",
      "C:\\Users\\nicon\\AppData\\Local\\Temp\\ipykernel_32876\\2706685892.py:22: FutureWarning: save is not part of the public API, usage can give unexpected results and will be removed in a future version\n",
      "  writer.save()\n"
     ]
    },
    {
     "name": "stdout",
     "output_type": "stream",
     "text": [
      "進度已更新，當前索引: 659\n"
     ]
    },
    {
     "name": "stderr",
     "output_type": "stream",
     "text": [
      "C:\\Users\\nicon\\AppData\\Local\\Temp\\ipykernel_32876\\2706685892.py:8: FutureWarning: Setting the `book` attribute is not part of the public API, usage can give unexpected or corrupted results and will be removed in a future version\n",
      "  writer.book = load_workbook(filename)\n",
      "C:\\Users\\nicon\\AppData\\Local\\Temp\\ipykernel_32876\\2706685892.py:22: FutureWarning: save is not part of the public API, usage can give unexpected results and will be removed in a future version\n",
      "  writer.save()\n"
     ]
    },
    {
     "name": "stdout",
     "output_type": "stream",
     "text": [
      "進度已更新，當前索引: 660\n"
     ]
    },
    {
     "name": "stderr",
     "output_type": "stream",
     "text": [
      "C:\\Users\\nicon\\AppData\\Local\\Temp\\ipykernel_32876\\2706685892.py:8: FutureWarning: Setting the `book` attribute is not part of the public API, usage can give unexpected or corrupted results and will be removed in a future version\n",
      "  writer.book = load_workbook(filename)\n",
      "C:\\Users\\nicon\\AppData\\Local\\Temp\\ipykernel_32876\\2706685892.py:22: FutureWarning: save is not part of the public API, usage can give unexpected results and will be removed in a future version\n",
      "  writer.save()\n"
     ]
    },
    {
     "name": "stdout",
     "output_type": "stream",
     "text": [
      "進度已更新，當前索引: 661\n"
     ]
    },
    {
     "name": "stderr",
     "output_type": "stream",
     "text": [
      "C:\\Users\\nicon\\AppData\\Local\\Temp\\ipykernel_32876\\2706685892.py:8: FutureWarning: Setting the `book` attribute is not part of the public API, usage can give unexpected or corrupted results and will be removed in a future version\n",
      "  writer.book = load_workbook(filename)\n",
      "C:\\Users\\nicon\\AppData\\Local\\Temp\\ipykernel_32876\\2706685892.py:22: FutureWarning: save is not part of the public API, usage can give unexpected results and will be removed in a future version\n",
      "  writer.save()\n"
     ]
    },
    {
     "name": "stdout",
     "output_type": "stream",
     "text": [
      "進度已更新，當前索引: 662\n"
     ]
    },
    {
     "name": "stderr",
     "output_type": "stream",
     "text": [
      "C:\\Users\\nicon\\AppData\\Local\\Temp\\ipykernel_32876\\2706685892.py:8: FutureWarning: Setting the `book` attribute is not part of the public API, usage can give unexpected or corrupted results and will be removed in a future version\n",
      "  writer.book = load_workbook(filename)\n",
      "C:\\Users\\nicon\\AppData\\Local\\Temp\\ipykernel_32876\\2706685892.py:22: FutureWarning: save is not part of the public API, usage can give unexpected results and will be removed in a future version\n",
      "  writer.save()\n"
     ]
    },
    {
     "name": "stdout",
     "output_type": "stream",
     "text": [
      "進度已更新，當前索引: 663\n"
     ]
    },
    {
     "name": "stderr",
     "output_type": "stream",
     "text": [
      "C:\\Users\\nicon\\AppData\\Local\\Temp\\ipykernel_32876\\2706685892.py:8: FutureWarning: Setting the `book` attribute is not part of the public API, usage can give unexpected or corrupted results and will be removed in a future version\n",
      "  writer.book = load_workbook(filename)\n",
      "C:\\Users\\nicon\\AppData\\Local\\Temp\\ipykernel_32876\\2706685892.py:22: FutureWarning: save is not part of the public API, usage can give unexpected results and will be removed in a future version\n",
      "  writer.save()\n"
     ]
    },
    {
     "name": "stdout",
     "output_type": "stream",
     "text": [
      "進度已更新，當前索引: 664\n"
     ]
    },
    {
     "name": "stderr",
     "output_type": "stream",
     "text": [
      "C:\\Users\\nicon\\AppData\\Local\\Temp\\ipykernel_32876\\2706685892.py:8: FutureWarning: Setting the `book` attribute is not part of the public API, usage can give unexpected or corrupted results and will be removed in a future version\n",
      "  writer.book = load_workbook(filename)\n",
      "C:\\Users\\nicon\\AppData\\Local\\Temp\\ipykernel_32876\\2706685892.py:22: FutureWarning: save is not part of the public API, usage can give unexpected results and will be removed in a future version\n",
      "  writer.save()\n"
     ]
    },
    {
     "name": "stdout",
     "output_type": "stream",
     "text": [
      "進度已更新，當前索引: 666\n"
     ]
    },
    {
     "name": "stderr",
     "output_type": "stream",
     "text": [
      "C:\\Users\\nicon\\AppData\\Local\\Temp\\ipykernel_32876\\2706685892.py:8: FutureWarning: Setting the `book` attribute is not part of the public API, usage can give unexpected or corrupted results and will be removed in a future version\n",
      "  writer.book = load_workbook(filename)\n",
      "C:\\Users\\nicon\\AppData\\Local\\Temp\\ipykernel_32876\\2706685892.py:22: FutureWarning: save is not part of the public API, usage can give unexpected results and will be removed in a future version\n",
      "  writer.save()\n"
     ]
    },
    {
     "name": "stdout",
     "output_type": "stream",
     "text": [
      "進度已更新，當前索引: 667\n"
     ]
    },
    {
     "name": "stderr",
     "output_type": "stream",
     "text": [
      "C:\\Users\\nicon\\AppData\\Local\\Temp\\ipykernel_32876\\2706685892.py:8: FutureWarning: Setting the `book` attribute is not part of the public API, usage can give unexpected or corrupted results and will be removed in a future version\n",
      "  writer.book = load_workbook(filename)\n",
      "C:\\Users\\nicon\\AppData\\Local\\Temp\\ipykernel_32876\\2706685892.py:22: FutureWarning: save is not part of the public API, usage can give unexpected results and will be removed in a future version\n",
      "  writer.save()\n"
     ]
    },
    {
     "name": "stdout",
     "output_type": "stream",
     "text": [
      "進度已更新，當前索引: 668\n"
     ]
    },
    {
     "name": "stderr",
     "output_type": "stream",
     "text": [
      "C:\\Users\\nicon\\AppData\\Local\\Temp\\ipykernel_32876\\2706685892.py:8: FutureWarning: Setting the `book` attribute is not part of the public API, usage can give unexpected or corrupted results and will be removed in a future version\n",
      "  writer.book = load_workbook(filename)\n",
      "C:\\Users\\nicon\\AppData\\Local\\Temp\\ipykernel_32876\\2706685892.py:22: FutureWarning: save is not part of the public API, usage can give unexpected results and will be removed in a future version\n",
      "  writer.save()\n"
     ]
    },
    {
     "name": "stdout",
     "output_type": "stream",
     "text": [
      "進度已更新，當前索引: 669\n"
     ]
    },
    {
     "name": "stderr",
     "output_type": "stream",
     "text": [
      "C:\\Users\\nicon\\AppData\\Local\\Temp\\ipykernel_32876\\2706685892.py:8: FutureWarning: Setting the `book` attribute is not part of the public API, usage can give unexpected or corrupted results and will be removed in a future version\n",
      "  writer.book = load_workbook(filename)\n",
      "C:\\Users\\nicon\\AppData\\Local\\Temp\\ipykernel_32876\\2706685892.py:22: FutureWarning: save is not part of the public API, usage can give unexpected results and will be removed in a future version\n",
      "  writer.save()\n"
     ]
    },
    {
     "name": "stdout",
     "output_type": "stream",
     "text": [
      "進度已更新，當前索引: 671\n"
     ]
    },
    {
     "name": "stderr",
     "output_type": "stream",
     "text": [
      "C:\\Users\\nicon\\AppData\\Local\\Temp\\ipykernel_32876\\2706685892.py:8: FutureWarning: Setting the `book` attribute is not part of the public API, usage can give unexpected or corrupted results and will be removed in a future version\n",
      "  writer.book = load_workbook(filename)\n",
      "C:\\Users\\nicon\\AppData\\Local\\Temp\\ipykernel_32876\\2706685892.py:22: FutureWarning: save is not part of the public API, usage can give unexpected results and will be removed in a future version\n",
      "  writer.save()\n"
     ]
    },
    {
     "name": "stdout",
     "output_type": "stream",
     "text": [
      "進度已更新，當前索引: 672\n"
     ]
    },
    {
     "name": "stderr",
     "output_type": "stream",
     "text": [
      "C:\\Users\\nicon\\AppData\\Local\\Temp\\ipykernel_32876\\2706685892.py:8: FutureWarning: Setting the `book` attribute is not part of the public API, usage can give unexpected or corrupted results and will be removed in a future version\n",
      "  writer.book = load_workbook(filename)\n",
      "C:\\Users\\nicon\\AppData\\Local\\Temp\\ipykernel_32876\\2706685892.py:22: FutureWarning: save is not part of the public API, usage can give unexpected results and will be removed in a future version\n",
      "  writer.save()\n"
     ]
    },
    {
     "name": "stdout",
     "output_type": "stream",
     "text": [
      "進度已更新，當前索引: 673\n"
     ]
    },
    {
     "name": "stderr",
     "output_type": "stream",
     "text": [
      "C:\\Users\\nicon\\AppData\\Local\\Temp\\ipykernel_32876\\2706685892.py:8: FutureWarning: Setting the `book` attribute is not part of the public API, usage can give unexpected or corrupted results and will be removed in a future version\n",
      "  writer.book = load_workbook(filename)\n",
      "C:\\Users\\nicon\\AppData\\Local\\Temp\\ipykernel_32876\\2706685892.py:22: FutureWarning: save is not part of the public API, usage can give unexpected results and will be removed in a future version\n",
      "  writer.save()\n"
     ]
    },
    {
     "name": "stdout",
     "output_type": "stream",
     "text": [
      "進度已更新，當前索引: 674\n"
     ]
    },
    {
     "name": "stderr",
     "output_type": "stream",
     "text": [
      "C:\\Users\\nicon\\AppData\\Local\\Temp\\ipykernel_32876\\2706685892.py:8: FutureWarning: Setting the `book` attribute is not part of the public API, usage can give unexpected or corrupted results and will be removed in a future version\n",
      "  writer.book = load_workbook(filename)\n",
      "C:\\Users\\nicon\\AppData\\Local\\Temp\\ipykernel_32876\\2706685892.py:22: FutureWarning: save is not part of the public API, usage can give unexpected results and will be removed in a future version\n",
      "  writer.save()\n"
     ]
    },
    {
     "name": "stdout",
     "output_type": "stream",
     "text": [
      "進度已更新，當前索引: 676\n"
     ]
    },
    {
     "name": "stderr",
     "output_type": "stream",
     "text": [
      "C:\\Users\\nicon\\AppData\\Local\\Temp\\ipykernel_32876\\2706685892.py:8: FutureWarning: Setting the `book` attribute is not part of the public API, usage can give unexpected or corrupted results and will be removed in a future version\n",
      "  writer.book = load_workbook(filename)\n",
      "C:\\Users\\nicon\\AppData\\Local\\Temp\\ipykernel_32876\\2706685892.py:22: FutureWarning: save is not part of the public API, usage can give unexpected results and will be removed in a future version\n",
      "  writer.save()\n"
     ]
    },
    {
     "name": "stdout",
     "output_type": "stream",
     "text": [
      "進度已更新，當前索引: 677\n"
     ]
    },
    {
     "name": "stderr",
     "output_type": "stream",
     "text": [
      "C:\\Users\\nicon\\AppData\\Local\\Temp\\ipykernel_32876\\2706685892.py:8: FutureWarning: Setting the `book` attribute is not part of the public API, usage can give unexpected or corrupted results and will be removed in a future version\n",
      "  writer.book = load_workbook(filename)\n",
      "C:\\Users\\nicon\\AppData\\Local\\Temp\\ipykernel_32876\\2706685892.py:22: FutureWarning: save is not part of the public API, usage can give unexpected results and will be removed in a future version\n",
      "  writer.save()\n"
     ]
    },
    {
     "name": "stdout",
     "output_type": "stream",
     "text": [
      "進度已更新，當前索引: 678\n"
     ]
    },
    {
     "name": "stderr",
     "output_type": "stream",
     "text": [
      "C:\\Users\\nicon\\AppData\\Local\\Temp\\ipykernel_32876\\2706685892.py:8: FutureWarning: Setting the `book` attribute is not part of the public API, usage can give unexpected or corrupted results and will be removed in a future version\n",
      "  writer.book = load_workbook(filename)\n",
      "C:\\Users\\nicon\\AppData\\Local\\Temp\\ipykernel_32876\\2706685892.py:22: FutureWarning: save is not part of the public API, usage can give unexpected results and will be removed in a future version\n",
      "  writer.save()\n"
     ]
    },
    {
     "name": "stdout",
     "output_type": "stream",
     "text": [
      "進度已更新，當前索引: 679\n"
     ]
    },
    {
     "name": "stderr",
     "output_type": "stream",
     "text": [
      "C:\\Users\\nicon\\AppData\\Local\\Temp\\ipykernel_32876\\2706685892.py:8: FutureWarning: Setting the `book` attribute is not part of the public API, usage can give unexpected or corrupted results and will be removed in a future version\n",
      "  writer.book = load_workbook(filename)\n",
      "C:\\Users\\nicon\\AppData\\Local\\Temp\\ipykernel_32876\\2706685892.py:22: FutureWarning: save is not part of the public API, usage can give unexpected results and will be removed in a future version\n",
      "  writer.save()\n"
     ]
    },
    {
     "name": "stdout",
     "output_type": "stream",
     "text": [
      "進度已更新，當前索引: 681\n"
     ]
    },
    {
     "name": "stderr",
     "output_type": "stream",
     "text": [
      "C:\\Users\\nicon\\AppData\\Local\\Temp\\ipykernel_32876\\2706685892.py:8: FutureWarning: Setting the `book` attribute is not part of the public API, usage can give unexpected or corrupted results and will be removed in a future version\n",
      "  writer.book = load_workbook(filename)\n",
      "C:\\Users\\nicon\\AppData\\Local\\Temp\\ipykernel_32876\\2706685892.py:22: FutureWarning: save is not part of the public API, usage can give unexpected results and will be removed in a future version\n",
      "  writer.save()\n"
     ]
    },
    {
     "name": "stdout",
     "output_type": "stream",
     "text": [
      "進度已更新，當前索引: 686\n"
     ]
    },
    {
     "name": "stderr",
     "output_type": "stream",
     "text": [
      "C:\\Users\\nicon\\AppData\\Local\\Temp\\ipykernel_32876\\2706685892.py:8: FutureWarning: Setting the `book` attribute is not part of the public API, usage can give unexpected or corrupted results and will be removed in a future version\n",
      "  writer.book = load_workbook(filename)\n",
      "C:\\Users\\nicon\\AppData\\Local\\Temp\\ipykernel_32876\\2706685892.py:22: FutureWarning: save is not part of the public API, usage can give unexpected results and will be removed in a future version\n",
      "  writer.save()\n"
     ]
    },
    {
     "name": "stdout",
     "output_type": "stream",
     "text": [
      "進度已更新，當前索引: 688\n"
     ]
    },
    {
     "name": "stderr",
     "output_type": "stream",
     "text": [
      "C:\\Users\\nicon\\AppData\\Local\\Temp\\ipykernel_32876\\2706685892.py:8: FutureWarning: Setting the `book` attribute is not part of the public API, usage can give unexpected or corrupted results and will be removed in a future version\n",
      "  writer.book = load_workbook(filename)\n",
      "C:\\Users\\nicon\\AppData\\Local\\Temp\\ipykernel_32876\\2706685892.py:22: FutureWarning: save is not part of the public API, usage can give unexpected results and will be removed in a future version\n",
      "  writer.save()\n"
     ]
    },
    {
     "name": "stdout",
     "output_type": "stream",
     "text": [
      "進度已更新，當前索引: 689\n"
     ]
    },
    {
     "name": "stderr",
     "output_type": "stream",
     "text": [
      "C:\\Users\\nicon\\AppData\\Local\\Temp\\ipykernel_32876\\2706685892.py:8: FutureWarning: Setting the `book` attribute is not part of the public API, usage can give unexpected or corrupted results and will be removed in a future version\n",
      "  writer.book = load_workbook(filename)\n",
      "C:\\Users\\nicon\\AppData\\Local\\Temp\\ipykernel_32876\\2706685892.py:22: FutureWarning: save is not part of the public API, usage can give unexpected results and will be removed in a future version\n",
      "  writer.save()\n"
     ]
    },
    {
     "name": "stdout",
     "output_type": "stream",
     "text": [
      "進度已更新，當前索引: 691\n"
     ]
    },
    {
     "name": "stderr",
     "output_type": "stream",
     "text": [
      "C:\\Users\\nicon\\AppData\\Local\\Temp\\ipykernel_32876\\2706685892.py:8: FutureWarning: Setting the `book` attribute is not part of the public API, usage can give unexpected or corrupted results and will be removed in a future version\n",
      "  writer.book = load_workbook(filename)\n",
      "C:\\Users\\nicon\\AppData\\Local\\Temp\\ipykernel_32876\\2706685892.py:22: FutureWarning: save is not part of the public API, usage can give unexpected results and will be removed in a future version\n",
      "  writer.save()\n"
     ]
    },
    {
     "name": "stdout",
     "output_type": "stream",
     "text": [
      "進度已更新，當前索引: 693\n"
     ]
    },
    {
     "name": "stderr",
     "output_type": "stream",
     "text": [
      "C:\\Users\\nicon\\AppData\\Local\\Temp\\ipykernel_32876\\2706685892.py:8: FutureWarning: Setting the `book` attribute is not part of the public API, usage can give unexpected or corrupted results and will be removed in a future version\n",
      "  writer.book = load_workbook(filename)\n",
      "C:\\Users\\nicon\\AppData\\Local\\Temp\\ipykernel_32876\\2706685892.py:22: FutureWarning: save is not part of the public API, usage can give unexpected results and will be removed in a future version\n",
      "  writer.save()\n"
     ]
    },
    {
     "name": "stdout",
     "output_type": "stream",
     "text": [
      "進度已更新，當前索引: 694\n"
     ]
    },
    {
     "name": "stderr",
     "output_type": "stream",
     "text": [
      "C:\\Users\\nicon\\AppData\\Local\\Temp\\ipykernel_32876\\2706685892.py:8: FutureWarning: Setting the `book` attribute is not part of the public API, usage can give unexpected or corrupted results and will be removed in a future version\n",
      "  writer.book = load_workbook(filename)\n",
      "C:\\Users\\nicon\\AppData\\Local\\Temp\\ipykernel_32876\\2706685892.py:22: FutureWarning: save is not part of the public API, usage can give unexpected results and will be removed in a future version\n",
      "  writer.save()\n"
     ]
    },
    {
     "name": "stdout",
     "output_type": "stream",
     "text": [
      "進度已更新，當前索引: 696\n"
     ]
    },
    {
     "name": "stderr",
     "output_type": "stream",
     "text": [
      "C:\\Users\\nicon\\AppData\\Local\\Temp\\ipykernel_32876\\2706685892.py:8: FutureWarning: Setting the `book` attribute is not part of the public API, usage can give unexpected or corrupted results and will be removed in a future version\n",
      "  writer.book = load_workbook(filename)\n",
      "C:\\Users\\nicon\\AppData\\Local\\Temp\\ipykernel_32876\\2706685892.py:22: FutureWarning: save is not part of the public API, usage can give unexpected results and will be removed in a future version\n",
      "  writer.save()\n"
     ]
    },
    {
     "name": "stdout",
     "output_type": "stream",
     "text": [
      "進度已更新，當前索引: 697\n"
     ]
    },
    {
     "name": "stderr",
     "output_type": "stream",
     "text": [
      "C:\\Users\\nicon\\AppData\\Local\\Temp\\ipykernel_32876\\2706685892.py:8: FutureWarning: Setting the `book` attribute is not part of the public API, usage can give unexpected or corrupted results and will be removed in a future version\n",
      "  writer.book = load_workbook(filename)\n",
      "C:\\Users\\nicon\\AppData\\Local\\Temp\\ipykernel_32876\\2706685892.py:22: FutureWarning: save is not part of the public API, usage can give unexpected results and will be removed in a future version\n",
      "  writer.save()\n"
     ]
    },
    {
     "name": "stdout",
     "output_type": "stream",
     "text": [
      "進度已更新，當前索引: 700\n"
     ]
    },
    {
     "name": "stderr",
     "output_type": "stream",
     "text": [
      "C:\\Users\\nicon\\AppData\\Local\\Temp\\ipykernel_32876\\2706685892.py:8: FutureWarning: Setting the `book` attribute is not part of the public API, usage can give unexpected or corrupted results and will be removed in a future version\n",
      "  writer.book = load_workbook(filename)\n",
      "C:\\Users\\nicon\\AppData\\Local\\Temp\\ipykernel_32876\\2706685892.py:22: FutureWarning: save is not part of the public API, usage can give unexpected results and will be removed in a future version\n",
      "  writer.save()\n"
     ]
    },
    {
     "name": "stdout",
     "output_type": "stream",
     "text": [
      "進度已更新，當前索引: 716\n"
     ]
    },
    {
     "name": "stderr",
     "output_type": "stream",
     "text": [
      "C:\\Users\\nicon\\AppData\\Local\\Temp\\ipykernel_32876\\2706685892.py:8: FutureWarning: Setting the `book` attribute is not part of the public API, usage can give unexpected or corrupted results and will be removed in a future version\n",
      "  writer.book = load_workbook(filename)\n",
      "C:\\Users\\nicon\\AppData\\Local\\Temp\\ipykernel_32876\\2706685892.py:22: FutureWarning: save is not part of the public API, usage can give unexpected results and will be removed in a future version\n",
      "  writer.save()\n"
     ]
    },
    {
     "name": "stdout",
     "output_type": "stream",
     "text": [
      "進度已更新，當前索引: 721\n"
     ]
    },
    {
     "name": "stderr",
     "output_type": "stream",
     "text": [
      "C:\\Users\\nicon\\AppData\\Local\\Temp\\ipykernel_32876\\2706685892.py:8: FutureWarning: Setting the `book` attribute is not part of the public API, usage can give unexpected or corrupted results and will be removed in a future version\n",
      "  writer.book = load_workbook(filename)\n",
      "C:\\Users\\nicon\\AppData\\Local\\Temp\\ipykernel_32876\\2706685892.py:22: FutureWarning: save is not part of the public API, usage can give unexpected results and will be removed in a future version\n",
      "  writer.save()\n"
     ]
    },
    {
     "name": "stdout",
     "output_type": "stream",
     "text": [
      "進度已更新，當前索引: 726\n"
     ]
    },
    {
     "name": "stderr",
     "output_type": "stream",
     "text": [
      "C:\\Users\\nicon\\AppData\\Local\\Temp\\ipykernel_32876\\2706685892.py:8: FutureWarning: Setting the `book` attribute is not part of the public API, usage can give unexpected or corrupted results and will be removed in a future version\n",
      "  writer.book = load_workbook(filename)\n",
      "C:\\Users\\nicon\\AppData\\Local\\Temp\\ipykernel_32876\\2706685892.py:22: FutureWarning: save is not part of the public API, usage can give unexpected results and will be removed in a future version\n",
      "  writer.save()\n"
     ]
    },
    {
     "name": "stdout",
     "output_type": "stream",
     "text": [
      "進度已更新，當前索引: 728\n"
     ]
    },
    {
     "name": "stderr",
     "output_type": "stream",
     "text": [
      "C:\\Users\\nicon\\AppData\\Local\\Temp\\ipykernel_32876\\2706685892.py:8: FutureWarning: Setting the `book` attribute is not part of the public API, usage can give unexpected or corrupted results and will be removed in a future version\n",
      "  writer.book = load_workbook(filename)\n",
      "C:\\Users\\nicon\\AppData\\Local\\Temp\\ipykernel_32876\\2706685892.py:22: FutureWarning: save is not part of the public API, usage can give unexpected results and will be removed in a future version\n",
      "  writer.save()\n"
     ]
    },
    {
     "name": "stdout",
     "output_type": "stream",
     "text": [
      "進度已更新，當前索引: 729\n"
     ]
    },
    {
     "name": "stderr",
     "output_type": "stream",
     "text": [
      "C:\\Users\\nicon\\AppData\\Local\\Temp\\ipykernel_32876\\2706685892.py:8: FutureWarning: Setting the `book` attribute is not part of the public API, usage can give unexpected or corrupted results and will be removed in a future version\n",
      "  writer.book = load_workbook(filename)\n",
      "C:\\Users\\nicon\\AppData\\Local\\Temp\\ipykernel_32876\\2706685892.py:22: FutureWarning: save is not part of the public API, usage can give unexpected results and will be removed in a future version\n",
      "  writer.save()\n"
     ]
    },
    {
     "name": "stdout",
     "output_type": "stream",
     "text": [
      "進度已更新，當前索引: 731\n"
     ]
    },
    {
     "name": "stderr",
     "output_type": "stream",
     "text": [
      "C:\\Users\\nicon\\AppData\\Local\\Temp\\ipykernel_32876\\2706685892.py:8: FutureWarning: Setting the `book` attribute is not part of the public API, usage can give unexpected or corrupted results and will be removed in a future version\n",
      "  writer.book = load_workbook(filename)\n",
      "C:\\Users\\nicon\\AppData\\Local\\Temp\\ipykernel_32876\\2706685892.py:22: FutureWarning: save is not part of the public API, usage can give unexpected results and will be removed in a future version\n",
      "  writer.save()\n"
     ]
    },
    {
     "name": "stdout",
     "output_type": "stream",
     "text": [
      "進度已更新，當前索引: 733\n"
     ]
    },
    {
     "name": "stderr",
     "output_type": "stream",
     "text": [
      "C:\\Users\\nicon\\AppData\\Local\\Temp\\ipykernel_32876\\2706685892.py:8: FutureWarning: Setting the `book` attribute is not part of the public API, usage can give unexpected or corrupted results and will be removed in a future version\n",
      "  writer.book = load_workbook(filename)\n",
      "C:\\Users\\nicon\\AppData\\Local\\Temp\\ipykernel_32876\\2706685892.py:22: FutureWarning: save is not part of the public API, usage can give unexpected results and will be removed in a future version\n",
      "  writer.save()\n"
     ]
    },
    {
     "name": "stdout",
     "output_type": "stream",
     "text": [
      "進度已更新，當前索引: 734\n"
     ]
    },
    {
     "name": "stderr",
     "output_type": "stream",
     "text": [
      "C:\\Users\\nicon\\AppData\\Local\\Temp\\ipykernel_32876\\2706685892.py:8: FutureWarning: Setting the `book` attribute is not part of the public API, usage can give unexpected or corrupted results and will be removed in a future version\n",
      "  writer.book = load_workbook(filename)\n",
      "C:\\Users\\nicon\\AppData\\Local\\Temp\\ipykernel_32876\\2706685892.py:22: FutureWarning: save is not part of the public API, usage can give unexpected results and will be removed in a future version\n",
      "  writer.save()\n"
     ]
    },
    {
     "name": "stdout",
     "output_type": "stream",
     "text": [
      "進度已更新，當前索引: 736\n"
     ]
    },
    {
     "name": "stderr",
     "output_type": "stream",
     "text": [
      "C:\\Users\\nicon\\AppData\\Local\\Temp\\ipykernel_32876\\2706685892.py:8: FutureWarning: Setting the `book` attribute is not part of the public API, usage can give unexpected or corrupted results and will be removed in a future version\n",
      "  writer.book = load_workbook(filename)\n",
      "C:\\Users\\nicon\\AppData\\Local\\Temp\\ipykernel_32876\\2706685892.py:22: FutureWarning: save is not part of the public API, usage can give unexpected results and will be removed in a future version\n",
      "  writer.save()\n"
     ]
    },
    {
     "name": "stdout",
     "output_type": "stream",
     "text": [
      "進度已更新，當前索引: 737\n"
     ]
    },
    {
     "name": "stderr",
     "output_type": "stream",
     "text": [
      "C:\\Users\\nicon\\AppData\\Local\\Temp\\ipykernel_32876\\2706685892.py:8: FutureWarning: Setting the `book` attribute is not part of the public API, usage can give unexpected or corrupted results and will be removed in a future version\n",
      "  writer.book = load_workbook(filename)\n",
      "C:\\Users\\nicon\\AppData\\Local\\Temp\\ipykernel_32876\\2706685892.py:22: FutureWarning: save is not part of the public API, usage can give unexpected results and will be removed in a future version\n",
      "  writer.save()\n"
     ]
    },
    {
     "name": "stdout",
     "output_type": "stream",
     "text": [
      "進度已更新，當前索引: 740\n"
     ]
    },
    {
     "name": "stderr",
     "output_type": "stream",
     "text": [
      "C:\\Users\\nicon\\AppData\\Local\\Temp\\ipykernel_32876\\2706685892.py:8: FutureWarning: Setting the `book` attribute is not part of the public API, usage can give unexpected or corrupted results and will be removed in a future version\n",
      "  writer.book = load_workbook(filename)\n",
      "C:\\Users\\nicon\\AppData\\Local\\Temp\\ipykernel_32876\\2706685892.py:22: FutureWarning: save is not part of the public API, usage can give unexpected results and will be removed in a future version\n",
      "  writer.save()\n"
     ]
    },
    {
     "name": "stdout",
     "output_type": "stream",
     "text": [
      "進度已更新，當前索引: 751\n"
     ]
    },
    {
     "name": "stderr",
     "output_type": "stream",
     "text": [
      "C:\\Users\\nicon\\AppData\\Local\\Temp\\ipykernel_32876\\2706685892.py:8: FutureWarning: Setting the `book` attribute is not part of the public API, usage can give unexpected or corrupted results and will be removed in a future version\n",
      "  writer.book = load_workbook(filename)\n",
      "C:\\Users\\nicon\\AppData\\Local\\Temp\\ipykernel_32876\\2706685892.py:22: FutureWarning: save is not part of the public API, usage can give unexpected results and will be removed in a future version\n",
      "  writer.save()\n"
     ]
    },
    {
     "name": "stdout",
     "output_type": "stream",
     "text": [
      "進度已更新，當前索引: 756\n"
     ]
    },
    {
     "name": "stderr",
     "output_type": "stream",
     "text": [
      "C:\\Users\\nicon\\AppData\\Local\\Temp\\ipykernel_32876\\2706685892.py:8: FutureWarning: Setting the `book` attribute is not part of the public API, usage can give unexpected or corrupted results and will be removed in a future version\n",
      "  writer.book = load_workbook(filename)\n",
      "C:\\Users\\nicon\\AppData\\Local\\Temp\\ipykernel_32876\\2706685892.py:22: FutureWarning: save is not part of the public API, usage can give unexpected results and will be removed in a future version\n",
      "  writer.save()\n"
     ]
    },
    {
     "name": "stdout",
     "output_type": "stream",
     "text": [
      "進度已更新，當前索引: 760\n"
     ]
    },
    {
     "name": "stderr",
     "output_type": "stream",
     "text": [
      "C:\\Users\\nicon\\AppData\\Local\\Temp\\ipykernel_32876\\2706685892.py:8: FutureWarning: Setting the `book` attribute is not part of the public API, usage can give unexpected or corrupted results and will be removed in a future version\n",
      "  writer.book = load_workbook(filename)\n",
      "C:\\Users\\nicon\\AppData\\Local\\Temp\\ipykernel_32876\\2706685892.py:22: FutureWarning: save is not part of the public API, usage can give unexpected results and will be removed in a future version\n",
      "  writer.save()\n"
     ]
    },
    {
     "name": "stdout",
     "output_type": "stream",
     "text": [
      "進度已更新，當前索引: 761\n"
     ]
    },
    {
     "name": "stderr",
     "output_type": "stream",
     "text": [
      "C:\\Users\\nicon\\AppData\\Local\\Temp\\ipykernel_32876\\2706685892.py:8: FutureWarning: Setting the `book` attribute is not part of the public API, usage can give unexpected or corrupted results and will be removed in a future version\n",
      "  writer.book = load_workbook(filename)\n",
      "C:\\Users\\nicon\\AppData\\Local\\Temp\\ipykernel_32876\\2706685892.py:22: FutureWarning: save is not part of the public API, usage can give unexpected results and will be removed in a future version\n",
      "  writer.save()\n"
     ]
    },
    {
     "name": "stdout",
     "output_type": "stream",
     "text": [
      "進度已更新，當前索引: 766\n"
     ]
    },
    {
     "name": "stderr",
     "output_type": "stream",
     "text": [
      "C:\\Users\\nicon\\AppData\\Local\\Temp\\ipykernel_32876\\2706685892.py:8: FutureWarning: Setting the `book` attribute is not part of the public API, usage can give unexpected or corrupted results and will be removed in a future version\n",
      "  writer.book = load_workbook(filename)\n",
      "C:\\Users\\nicon\\AppData\\Local\\Temp\\ipykernel_32876\\2706685892.py:22: FutureWarning: save is not part of the public API, usage can give unexpected results and will be removed in a future version\n",
      "  writer.save()\n"
     ]
    },
    {
     "name": "stdout",
     "output_type": "stream",
     "text": [
      "進度已更新，當前索引: 768\n"
     ]
    },
    {
     "name": "stderr",
     "output_type": "stream",
     "text": [
      "C:\\Users\\nicon\\AppData\\Local\\Temp\\ipykernel_32876\\2706685892.py:8: FutureWarning: Setting the `book` attribute is not part of the public API, usage can give unexpected or corrupted results and will be removed in a future version\n",
      "  writer.book = load_workbook(filename)\n",
      "C:\\Users\\nicon\\AppData\\Local\\Temp\\ipykernel_32876\\2706685892.py:22: FutureWarning: save is not part of the public API, usage can give unexpected results and will be removed in a future version\n",
      "  writer.save()\n"
     ]
    },
    {
     "name": "stdout",
     "output_type": "stream",
     "text": [
      "進度已更新，當前索引: 769\n"
     ]
    },
    {
     "name": "stderr",
     "output_type": "stream",
     "text": [
      "C:\\Users\\nicon\\AppData\\Local\\Temp\\ipykernel_32876\\2706685892.py:8: FutureWarning: Setting the `book` attribute is not part of the public API, usage can give unexpected or corrupted results and will be removed in a future version\n",
      "  writer.book = load_workbook(filename)\n",
      "C:\\Users\\nicon\\AppData\\Local\\Temp\\ipykernel_32876\\2706685892.py:22: FutureWarning: save is not part of the public API, usage can give unexpected results and will be removed in a future version\n",
      "  writer.save()\n"
     ]
    },
    {
     "name": "stdout",
     "output_type": "stream",
     "text": [
      "進度已更新，當前索引: 771\n"
     ]
    },
    {
     "name": "stderr",
     "output_type": "stream",
     "text": [
      "C:\\Users\\nicon\\AppData\\Local\\Temp\\ipykernel_32876\\2706685892.py:8: FutureWarning: Setting the `book` attribute is not part of the public API, usage can give unexpected or corrupted results and will be removed in a future version\n",
      "  writer.book = load_workbook(filename)\n",
      "C:\\Users\\nicon\\AppData\\Local\\Temp\\ipykernel_32876\\2706685892.py:22: FutureWarning: save is not part of the public API, usage can give unexpected results and will be removed in a future version\n",
      "  writer.save()\n"
     ]
    },
    {
     "name": "stdout",
     "output_type": "stream",
     "text": [
      "進度已更新，當前索引: 773\n"
     ]
    },
    {
     "name": "stderr",
     "output_type": "stream",
     "text": [
      "C:\\Users\\nicon\\AppData\\Local\\Temp\\ipykernel_32876\\2706685892.py:8: FutureWarning: Setting the `book` attribute is not part of the public API, usage can give unexpected or corrupted results and will be removed in a future version\n",
      "  writer.book = load_workbook(filename)\n",
      "C:\\Users\\nicon\\AppData\\Local\\Temp\\ipykernel_32876\\2706685892.py:22: FutureWarning: save is not part of the public API, usage can give unexpected results and will be removed in a future version\n",
      "  writer.save()\n"
     ]
    },
    {
     "name": "stdout",
     "output_type": "stream",
     "text": [
      "進度已更新，當前索引: 774\n"
     ]
    },
    {
     "name": "stderr",
     "output_type": "stream",
     "text": [
      "C:\\Users\\nicon\\AppData\\Local\\Temp\\ipykernel_32876\\2706685892.py:8: FutureWarning: Setting the `book` attribute is not part of the public API, usage can give unexpected or corrupted results and will be removed in a future version\n",
      "  writer.book = load_workbook(filename)\n",
      "C:\\Users\\nicon\\AppData\\Local\\Temp\\ipykernel_32876\\2706685892.py:22: FutureWarning: save is not part of the public API, usage can give unexpected results and will be removed in a future version\n",
      "  writer.save()\n"
     ]
    },
    {
     "name": "stdout",
     "output_type": "stream",
     "text": [
      "進度已更新，當前索引: 776\n"
     ]
    },
    {
     "name": "stderr",
     "output_type": "stream",
     "text": [
      "C:\\Users\\nicon\\AppData\\Local\\Temp\\ipykernel_32876\\2706685892.py:8: FutureWarning: Setting the `book` attribute is not part of the public API, usage can give unexpected or corrupted results and will be removed in a future version\n",
      "  writer.book = load_workbook(filename)\n",
      "C:\\Users\\nicon\\AppData\\Local\\Temp\\ipykernel_32876\\2706685892.py:22: FutureWarning: save is not part of the public API, usage can give unexpected results and will be removed in a future version\n",
      "  writer.save()\n"
     ]
    },
    {
     "name": "stdout",
     "output_type": "stream",
     "text": [
      "進度已更新，當前索引: 777\n"
     ]
    },
    {
     "name": "stderr",
     "output_type": "stream",
     "text": [
      "C:\\Users\\nicon\\AppData\\Local\\Temp\\ipykernel_32876\\2706685892.py:8: FutureWarning: Setting the `book` attribute is not part of the public API, usage can give unexpected or corrupted results and will be removed in a future version\n",
      "  writer.book = load_workbook(filename)\n",
      "C:\\Users\\nicon\\AppData\\Local\\Temp\\ipykernel_32876\\2706685892.py:22: FutureWarning: save is not part of the public API, usage can give unexpected results and will be removed in a future version\n",
      "  writer.save()\n"
     ]
    },
    {
     "name": "stdout",
     "output_type": "stream",
     "text": [
      "進度已更新，當前索引: 780\n"
     ]
    },
    {
     "name": "stderr",
     "output_type": "stream",
     "text": [
      "C:\\Users\\nicon\\AppData\\Local\\Temp\\ipykernel_32876\\2706685892.py:8: FutureWarning: Setting the `book` attribute is not part of the public API, usage can give unexpected or corrupted results and will be removed in a future version\n",
      "  writer.book = load_workbook(filename)\n",
      "C:\\Users\\nicon\\AppData\\Local\\Temp\\ipykernel_32876\\2706685892.py:22: FutureWarning: save is not part of the public API, usage can give unexpected results and will be removed in a future version\n",
      "  writer.save()\n"
     ]
    },
    {
     "name": "stdout",
     "output_type": "stream",
     "text": [
      "進度已更新，當前索引: 786\n"
     ]
    },
    {
     "name": "stderr",
     "output_type": "stream",
     "text": [
      "C:\\Users\\nicon\\AppData\\Local\\Temp\\ipykernel_32876\\2706685892.py:8: FutureWarning: Setting the `book` attribute is not part of the public API, usage can give unexpected or corrupted results and will be removed in a future version\n",
      "  writer.book = load_workbook(filename)\n",
      "C:\\Users\\nicon\\AppData\\Local\\Temp\\ipykernel_32876\\2706685892.py:22: FutureWarning: save is not part of the public API, usage can give unexpected results and will be removed in a future version\n",
      "  writer.save()\n"
     ]
    },
    {
     "name": "stdout",
     "output_type": "stream",
     "text": [
      "進度已更新，當前索引: 796\n"
     ]
    },
    {
     "name": "stderr",
     "output_type": "stream",
     "text": [
      "C:\\Users\\nicon\\AppData\\Local\\Temp\\ipykernel_32876\\2706685892.py:8: FutureWarning: Setting the `book` attribute is not part of the public API, usage can give unexpected or corrupted results and will be removed in a future version\n",
      "  writer.book = load_workbook(filename)\n",
      "C:\\Users\\nicon\\AppData\\Local\\Temp\\ipykernel_32876\\2706685892.py:22: FutureWarning: save is not part of the public API, usage can give unexpected results and will be removed in a future version\n",
      "  writer.save()\n"
     ]
    },
    {
     "name": "stdout",
     "output_type": "stream",
     "text": [
      "進度已更新，當前索引: 800\n",
      "所有資料已處理完畢。\n"
     ]
    }
   ],
   "source": [
    "# 遍歷Excel檔案中的每一行，從上次停止的地方開始\n",
    "for index, row in keywords_df.iloc[start_index:].iterrows():\n",
    "    keywords = 'TI/AB/CL=' + row['關鍵字']\n",
    "    for col in ['同義詞', '上下詞']:\n",
    "        if pd.notnull(row[col]):\n",
    "            keywords += '&+TI/AB/CL=' + row[col]\n",
    "\n",
    "    ipc_code = row['IPC代碼']\n",
    "    api_url = f\"{base_url}?userCode={user_code}&patDB=TWA,TWB,TWD&patAG=A,B&patTY=I,M,D&{keywords}&IC={ipc_code}&expFld=PN,AN,ID,AD,TI,AB,IC,CL&expFmt=xml&expQty=100\"\n",
    "    \n",
    "    response = requests.get(api_url)\n",
    "    if response.status_code == 200:\n",
    "        root = ET.fromstring(response.content)\n",
    "        for patentcontent in root.findall('.//patentcontent'):\n",
    "            patent_dict = {df_column: patentcontent.find(f'.//{xml_path}').text if patentcontent.find(f'.//{xml_path}') is not None else '無資料'\n",
    "                           for xml_path, df_column in xml_to_df_mapping.items()}\n",
    "            all_patents_info.append(patent_dict)\n",
    "        \n",
    "        # 每處理100筆數據後儲存一次，並記錄進度\n",
    "        if len(all_patents_info) >= 100:\n",
    "            patents_df = pd.DataFrame(all_patents_info)\n",
    "            append_df_to_excel('patents_continuous.xlsx', patents_df)\n",
    "            all_patents_info = []  # 重重置列表以避免重複儲存\n",
    "            save_progress(index + 1)  # 保存進度\n",
    "\n",
    "    elif response.status_code == 429:\n",
    "        print(\"流量用完，暫停檢索。\")\n",
    "        save_progress(index)  # 保存當前進度以便重新開始\n",
    "        break\n",
    "    else:\n",
    "        print(f\"請求失敗, 狀態碼: {response.status_code}\")\n",
    "\n",
    "# 處理完所有資料後，保存任何未保存的資料\n",
    "if all_patents_info:\n",
    "    pd.DataFrame(all_patents_info).to_excel('patents_final结果.xlsx', index=False)\n",
    "    save_progress(index + 1)  # 更新進度為已完全處理\n",
    "\n",
    "print(\"所有資料已處理完畢。\")"
   ]
  },
  {
   "cell_type": "code",
   "execution_count": null,
   "id": "e3bdd622",
   "metadata": {},
   "outputs": [],
   "source": []
  },
  {
   "cell_type": "code",
   "execution_count": null,
   "id": "86119b3f",
   "metadata": {},
   "outputs": [],
   "source": []
  },
  {
   "cell_type": "code",
   "execution_count": null,
   "id": "0d1941b8",
   "metadata": {},
   "outputs": [],
   "source": []
  },
  {
   "cell_type": "code",
   "execution_count": null,
   "id": "d332fa65",
   "metadata": {},
   "outputs": [],
   "source": []
  },
  {
   "cell_type": "code",
   "execution_count": null,
   "id": "facc705c",
   "metadata": {},
   "outputs": [],
   "source": []
  },
  {
   "cell_type": "code",
   "execution_count": null,
   "id": "b4fd7db2",
   "metadata": {},
   "outputs": [],
   "source": []
  },
  {
   "cell_type": "code",
   "execution_count": 9,
   "id": "500d7fe7",
   "metadata": {},
   "outputs": [
    {
     "ename": "TypeError",
     "evalue": "unsupported operand type(s) for +: 'NoneType' and 'int'",
     "output_type": "error",
     "traceback": [
      "\u001b[1;31m---------------------------------------------------------------------------\u001b[0m",
      "\u001b[1;31mFileNotFoundError\u001b[0m                         Traceback (most recent call last)",
      "\u001b[1;32m~\\AppData\\Local\\Temp\\ipykernel_34056\\2706685892.py\u001b[0m in \u001b[0;36mappend_df_to_excel\u001b[1;34m(filename, df, sheet_name, startrow, **to_excel_kwargs)\u001b[0m\n\u001b[0;32m      5\u001b[0m     \u001b[1;32mtry\u001b[0m\u001b[1;33m:\u001b[0m\u001b[1;33m\u001b[0m\u001b[1;33m\u001b[0m\u001b[0m\n\u001b[1;32m----> 6\u001b[1;33m         \u001b[1;32mwith\u001b[0m \u001b[0mpd\u001b[0m\u001b[1;33m.\u001b[0m\u001b[0mExcelWriter\u001b[0m\u001b[1;33m(\u001b[0m\u001b[0mfilename\u001b[0m\u001b[1;33m,\u001b[0m \u001b[0mengine\u001b[0m\u001b[1;33m=\u001b[0m\u001b[1;34m'openpyxl'\u001b[0m\u001b[1;33m,\u001b[0m \u001b[0mmode\u001b[0m\u001b[1;33m=\u001b[0m\u001b[1;34m'a'\u001b[0m\u001b[1;33m,\u001b[0m \u001b[0mif_sheet_exists\u001b[0m\u001b[1;33m=\u001b[0m\u001b[1;34m'overlay'\u001b[0m\u001b[1;33m)\u001b[0m \u001b[1;32mas\u001b[0m \u001b[0mwriter\u001b[0m\u001b[1;33m:\u001b[0m\u001b[1;33m\u001b[0m\u001b[1;33m\u001b[0m\u001b[0m\n\u001b[0m\u001b[0;32m      7\u001b[0m             \u001b[1;31m# 從已有的workbook中載入所有的sheet\u001b[0m\u001b[1;33m\u001b[0m\u001b[1;33m\u001b[0m\u001b[1;33m\u001b[0m\u001b[0m\n",
      "\u001b[1;32m~\\anaconda3\\envs\\ml\\lib\\site-packages\\pandas\\io\\excel\\_openpyxl.py\u001b[0m in \u001b[0;36m__init__\u001b[1;34m(self, path, engine, date_format, datetime_format, mode, storage_options, if_sheet_exists, engine_kwargs, **kwargs)\u001b[0m\n\u001b[0;32m     59\u001b[0m \u001b[1;33m\u001b[0m\u001b[0m\n\u001b[1;32m---> 60\u001b[1;33m         super().__init__(\n\u001b[0m\u001b[0;32m     61\u001b[0m             \u001b[0mpath\u001b[0m\u001b[1;33m,\u001b[0m\u001b[1;33m\u001b[0m\u001b[1;33m\u001b[0m\u001b[0m\n",
      "\u001b[1;32m~\\anaconda3\\envs\\ml\\lib\\site-packages\\pandas\\io\\excel\\_base.py\u001b[0m in \u001b[0;36m__init__\u001b[1;34m(self, path, engine, date_format, datetime_format, mode, storage_options, if_sheet_exists, engine_kwargs, **kwargs)\u001b[0m\n\u001b[0;32m   1312\u001b[0m         \u001b[1;32mif\u001b[0m \u001b[1;32mnot\u001b[0m \u001b[0misinstance\u001b[0m\u001b[1;33m(\u001b[0m\u001b[0mpath\u001b[0m\u001b[1;33m,\u001b[0m \u001b[0mExcelWriter\u001b[0m\u001b[1;33m)\u001b[0m\u001b[1;33m:\u001b[0m\u001b[1;33m\u001b[0m\u001b[1;33m\u001b[0m\u001b[0m\n\u001b[1;32m-> 1313\u001b[1;33m             self._handles = get_handle(\n\u001b[0m\u001b[0;32m   1314\u001b[0m                 \u001b[0mpath\u001b[0m\u001b[1;33m,\u001b[0m \u001b[0mmode\u001b[0m\u001b[1;33m,\u001b[0m \u001b[0mstorage_options\u001b[0m\u001b[1;33m=\u001b[0m\u001b[0mstorage_options\u001b[0m\u001b[1;33m,\u001b[0m \u001b[0mis_text\u001b[0m\u001b[1;33m=\u001b[0m\u001b[1;32mFalse\u001b[0m\u001b[1;33m\u001b[0m\u001b[1;33m\u001b[0m\u001b[0m\n",
      "\u001b[1;32m~\\anaconda3\\envs\\ml\\lib\\site-packages\\pandas\\io\\common.py\u001b[0m in \u001b[0;36mget_handle\u001b[1;34m(path_or_buf, mode, encoding, compression, memory_map, is_text, errors, storage_options)\u001b[0m\n\u001b[0;32m    864\u001b[0m             \u001b[1;31m# Binary mode\u001b[0m\u001b[1;33m\u001b[0m\u001b[1;33m\u001b[0m\u001b[1;33m\u001b[0m\u001b[0m\n\u001b[1;32m--> 865\u001b[1;33m             \u001b[0mhandle\u001b[0m \u001b[1;33m=\u001b[0m \u001b[0mopen\u001b[0m\u001b[1;33m(\u001b[0m\u001b[0mhandle\u001b[0m\u001b[1;33m,\u001b[0m \u001b[0mioargs\u001b[0m\u001b[1;33m.\u001b[0m\u001b[0mmode\u001b[0m\u001b[1;33m)\u001b[0m\u001b[1;33m\u001b[0m\u001b[1;33m\u001b[0m\u001b[0m\n\u001b[0m\u001b[0;32m    866\u001b[0m         \u001b[0mhandles\u001b[0m\u001b[1;33m.\u001b[0m\u001b[0mappend\u001b[0m\u001b[1;33m(\u001b[0m\u001b[0mhandle\u001b[0m\u001b[1;33m)\u001b[0m\u001b[1;33m\u001b[0m\u001b[1;33m\u001b[0m\u001b[0m\n",
      "\u001b[1;31mFileNotFoundError\u001b[0m: [Errno 2] No such file or directory: 'patents_continuous.xlsx'",
      "\nDuring handling of the above exception, another exception occurred:\n",
      "\u001b[1;31mTypeError\u001b[0m                                 Traceback (most recent call last)",
      "\u001b[1;32m~\\AppData\\Local\\Temp\\ipykernel_34056\\837648899.py\u001b[0m in \u001b[0;36m<module>\u001b[1;34m\u001b[0m\n\u001b[0;32m     20\u001b[0m         \u001b[1;32mif\u001b[0m \u001b[0mlen\u001b[0m\u001b[1;33m(\u001b[0m\u001b[0mall_patents_info\u001b[0m\u001b[1;33m)\u001b[0m \u001b[1;33m>=\u001b[0m \u001b[1;36m100\u001b[0m\u001b[1;33m:\u001b[0m\u001b[1;33m\u001b[0m\u001b[1;33m\u001b[0m\u001b[0m\n\u001b[0;32m     21\u001b[0m             \u001b[0mpatents_df\u001b[0m \u001b[1;33m=\u001b[0m \u001b[0mpd\u001b[0m\u001b[1;33m.\u001b[0m\u001b[0mDataFrame\u001b[0m\u001b[1;33m(\u001b[0m\u001b[0mall_patents_info\u001b[0m\u001b[1;33m)\u001b[0m\u001b[1;33m\u001b[0m\u001b[1;33m\u001b[0m\u001b[0m\n\u001b[1;32m---> 22\u001b[1;33m             \u001b[0mappend_df_to_excel\u001b[0m\u001b[1;33m(\u001b[0m\u001b[1;34m'patents_continuous.xlsx'\u001b[0m\u001b[1;33m,\u001b[0m \u001b[0mpatents_df\u001b[0m\u001b[1;33m)\u001b[0m\u001b[1;33m\u001b[0m\u001b[1;33m\u001b[0m\u001b[0m\n\u001b[0m\u001b[0;32m     23\u001b[0m             \u001b[0mall_patents_info\u001b[0m \u001b[1;33m=\u001b[0m \u001b[1;33m[\u001b[0m\u001b[1;33m]\u001b[0m  \u001b[1;31m# 重重置列表以避免重複儲存\u001b[0m\u001b[1;33m\u001b[0m\u001b[1;33m\u001b[0m\u001b[0m\n\u001b[0;32m     24\u001b[0m             \u001b[0msave_progress\u001b[0m\u001b[1;33m(\u001b[0m\u001b[0mindex\u001b[0m \u001b[1;33m+\u001b[0m \u001b[1;36m1\u001b[0m\u001b[1;33m)\u001b[0m  \u001b[1;31m# 保存進度\u001b[0m\u001b[1;33m\u001b[0m\u001b[1;33m\u001b[0m\u001b[0m\n",
      "\u001b[1;32m~\\AppData\\Local\\Temp\\ipykernel_34056\\2706685892.py\u001b[0m in \u001b[0;36mappend_df_to_excel\u001b[1;34m(filename, df, sheet_name, startrow, **to_excel_kwargs)\u001b[0m\n\u001b[0;32m     23\u001b[0m     \u001b[1;32mexcept\u001b[0m \u001b[0mFileNotFoundError\u001b[0m\u001b[1;33m:\u001b[0m\u001b[1;33m\u001b[0m\u001b[1;33m\u001b[0m\u001b[0m\n\u001b[0;32m     24\u001b[0m         \u001b[1;31m# 如果文件不存在，則創建新文件\u001b[0m\u001b[1;33m\u001b[0m\u001b[1;33m\u001b[0m\u001b[1;33m\u001b[0m\u001b[0m\n\u001b[1;32m---> 25\u001b[1;33m         \u001b[0mdf\u001b[0m\u001b[1;33m.\u001b[0m\u001b[0mto_excel\u001b[0m\u001b[1;33m(\u001b[0m\u001b[0mfilename\u001b[0m\u001b[1;33m,\u001b[0m \u001b[0msheet_name\u001b[0m\u001b[1;33m=\u001b[0m\u001b[0msheet_name\u001b[0m\u001b[1;33m,\u001b[0m \u001b[0mstartrow\u001b[0m\u001b[1;33m=\u001b[0m\u001b[0mstartrow\u001b[0m\u001b[1;33m,\u001b[0m \u001b[1;33m**\u001b[0m\u001b[0mto_excel_kwargs\u001b[0m\u001b[1;33m)\u001b[0m\u001b[1;33m\u001b[0m\u001b[1;33m\u001b[0m\u001b[0m\n\u001b[0m",
      "\u001b[1;32m~\\anaconda3\\envs\\ml\\lib\\site-packages\\pandas\\util\\_decorators.py\u001b[0m in \u001b[0;36mwrapper\u001b[1;34m(*args, **kwargs)\u001b[0m\n\u001b[0;32m    209\u001b[0m                 \u001b[1;32melse\u001b[0m\u001b[1;33m:\u001b[0m\u001b[1;33m\u001b[0m\u001b[1;33m\u001b[0m\u001b[0m\n\u001b[0;32m    210\u001b[0m                     \u001b[0mkwargs\u001b[0m\u001b[1;33m[\u001b[0m\u001b[0mnew_arg_name\u001b[0m\u001b[1;33m]\u001b[0m \u001b[1;33m=\u001b[0m \u001b[0mnew_arg_value\u001b[0m\u001b[1;33m\u001b[0m\u001b[1;33m\u001b[0m\u001b[0m\n\u001b[1;32m--> 211\u001b[1;33m             \u001b[1;32mreturn\u001b[0m \u001b[0mfunc\u001b[0m\u001b[1;33m(\u001b[0m\u001b[1;33m*\u001b[0m\u001b[0margs\u001b[0m\u001b[1;33m,\u001b[0m \u001b[1;33m**\u001b[0m\u001b[0mkwargs\u001b[0m\u001b[1;33m)\u001b[0m\u001b[1;33m\u001b[0m\u001b[1;33m\u001b[0m\u001b[0m\n\u001b[0m\u001b[0;32m    212\u001b[0m \u001b[1;33m\u001b[0m\u001b[0m\n\u001b[0;32m    213\u001b[0m         \u001b[1;32mreturn\u001b[0m \u001b[0mcast\u001b[0m\u001b[1;33m(\u001b[0m\u001b[0mF\u001b[0m\u001b[1;33m,\u001b[0m \u001b[0mwrapper\u001b[0m\u001b[1;33m)\u001b[0m\u001b[1;33m\u001b[0m\u001b[1;33m\u001b[0m\u001b[0m\n",
      "\u001b[1;32m~\\anaconda3\\envs\\ml\\lib\\site-packages\\pandas\\util\\_decorators.py\u001b[0m in \u001b[0;36mwrapper\u001b[1;34m(*args, **kwargs)\u001b[0m\n\u001b[0;32m    209\u001b[0m                 \u001b[1;32melse\u001b[0m\u001b[1;33m:\u001b[0m\u001b[1;33m\u001b[0m\u001b[1;33m\u001b[0m\u001b[0m\n\u001b[0;32m    210\u001b[0m                     \u001b[0mkwargs\u001b[0m\u001b[1;33m[\u001b[0m\u001b[0mnew_arg_name\u001b[0m\u001b[1;33m]\u001b[0m \u001b[1;33m=\u001b[0m \u001b[0mnew_arg_value\u001b[0m\u001b[1;33m\u001b[0m\u001b[1;33m\u001b[0m\u001b[0m\n\u001b[1;32m--> 211\u001b[1;33m             \u001b[1;32mreturn\u001b[0m \u001b[0mfunc\u001b[0m\u001b[1;33m(\u001b[0m\u001b[1;33m*\u001b[0m\u001b[0margs\u001b[0m\u001b[1;33m,\u001b[0m \u001b[1;33m**\u001b[0m\u001b[0mkwargs\u001b[0m\u001b[1;33m)\u001b[0m\u001b[1;33m\u001b[0m\u001b[1;33m\u001b[0m\u001b[0m\n\u001b[0m\u001b[0;32m    212\u001b[0m \u001b[1;33m\u001b[0m\u001b[0m\n\u001b[0;32m    213\u001b[0m         \u001b[1;32mreturn\u001b[0m \u001b[0mcast\u001b[0m\u001b[1;33m(\u001b[0m\u001b[0mF\u001b[0m\u001b[1;33m,\u001b[0m \u001b[0mwrapper\u001b[0m\u001b[1;33m)\u001b[0m\u001b[1;33m\u001b[0m\u001b[1;33m\u001b[0m\u001b[0m\n",
      "\u001b[1;32m~\\anaconda3\\envs\\ml\\lib\\site-packages\\pandas\\core\\generic.py\u001b[0m in \u001b[0;36mto_excel\u001b[1;34m(self, excel_writer, sheet_name, na_rep, float_format, columns, header, index, index_label, startrow, startcol, engine, merge_cells, encoding, inf_rep, verbose, freeze_panes, storage_options)\u001b[0m\n\u001b[0;32m   2372\u001b[0m             \u001b[0minf_rep\u001b[0m\u001b[1;33m=\u001b[0m\u001b[0minf_rep\u001b[0m\u001b[1;33m,\u001b[0m\u001b[1;33m\u001b[0m\u001b[1;33m\u001b[0m\u001b[0m\n\u001b[0;32m   2373\u001b[0m         )\n\u001b[1;32m-> 2374\u001b[1;33m         formatter.write(\n\u001b[0m\u001b[0;32m   2375\u001b[0m             \u001b[0mexcel_writer\u001b[0m\u001b[1;33m,\u001b[0m\u001b[1;33m\u001b[0m\u001b[1;33m\u001b[0m\u001b[0m\n\u001b[0;32m   2376\u001b[0m             \u001b[0msheet_name\u001b[0m\u001b[1;33m=\u001b[0m\u001b[0msheet_name\u001b[0m\u001b[1;33m,\u001b[0m\u001b[1;33m\u001b[0m\u001b[1;33m\u001b[0m\u001b[0m\n",
      "\u001b[1;32m~\\anaconda3\\envs\\ml\\lib\\site-packages\\pandas\\io\\formats\\excel.py\u001b[0m in \u001b[0;36mwrite\u001b[1;34m(self, writer, sheet_name, startrow, startcol, freeze_panes, engine, storage_options)\u001b[0m\n\u001b[0;32m    922\u001b[0m \u001b[1;33m\u001b[0m\u001b[0m\n\u001b[0;32m    923\u001b[0m         \u001b[1;32mtry\u001b[0m\u001b[1;33m:\u001b[0m\u001b[1;33m\u001b[0m\u001b[1;33m\u001b[0m\u001b[0m\n\u001b[1;32m--> 924\u001b[1;33m             writer._write_cells(\n\u001b[0m\u001b[0;32m    925\u001b[0m                 \u001b[0mformatted_cells\u001b[0m\u001b[1;33m,\u001b[0m\u001b[1;33m\u001b[0m\u001b[1;33m\u001b[0m\u001b[0m\n\u001b[0;32m    926\u001b[0m                 \u001b[0msheet_name\u001b[0m\u001b[1;33m,\u001b[0m\u001b[1;33m\u001b[0m\u001b[1;33m\u001b[0m\u001b[0m\n",
      "\u001b[1;32m~\\anaconda3\\envs\\ml\\lib\\site-packages\\pandas\\io\\excel\\_xlsxwriter.py\u001b[0m in \u001b[0;36m_write_cells\u001b[1;34m(self, cells, sheet_name, startrow, startcol, freeze_panes)\u001b[0m\n\u001b[0;32m    287\u001b[0m                 )\n\u001b[0;32m    288\u001b[0m             \u001b[1;32melse\u001b[0m\u001b[1;33m:\u001b[0m\u001b[1;33m\u001b[0m\u001b[1;33m\u001b[0m\u001b[0m\n\u001b[1;32m--> 289\u001b[1;33m                 \u001b[0mwks\u001b[0m\u001b[1;33m.\u001b[0m\u001b[0mwrite\u001b[0m\u001b[1;33m(\u001b[0m\u001b[0mstartrow\u001b[0m \u001b[1;33m+\u001b[0m \u001b[0mcell\u001b[0m\u001b[1;33m.\u001b[0m\u001b[0mrow\u001b[0m\u001b[1;33m,\u001b[0m \u001b[0mstartcol\u001b[0m \u001b[1;33m+\u001b[0m \u001b[0mcell\u001b[0m\u001b[1;33m.\u001b[0m\u001b[0mcol\u001b[0m\u001b[1;33m,\u001b[0m \u001b[0mval\u001b[0m\u001b[1;33m,\u001b[0m \u001b[0mstyle\u001b[0m\u001b[1;33m)\u001b[0m\u001b[1;33m\u001b[0m\u001b[1;33m\u001b[0m\u001b[0m\n\u001b[0m",
      "\u001b[1;31mTypeError\u001b[0m: unsupported operand type(s) for +: 'NoneType' and 'int'"
     ]
    }
   ],
   "source": [
    "# 遍歷Excel檔案中的每一行，從上次停止的地方開始\n",
    "for index, row in keywords_df.iloc[start_index:].iterrows():\n",
    "    keywords = 'TI/AB/CL=' + row['關鍵字']\n",
    "    for col in ['同義詞', '上下詞']:\n",
    "        if pd.notnull(row[col]):\n",
    "            keywords += '&+TI/AB/CL=' + row[col]\n",
    "\n",
    "    ipc_code = row['IPC代碼']\n",
    "    api_url = f\"{base_url}?userCode={user_code}&patDB=TWA,TWB,TWD&patAG=A,B&patTY=I,M,D&{keywords}&IC={ipc_code}&expFld=PN,AN,ID,AD,TI,AB,IC,CL&expFmt=xml&expQty=100\"\n",
    "    \n",
    "    response = requests.get(api_url)\n",
    "    if response.status_code == 200:\n",
    "        root = ET.fromstring(response.content)\n",
    "        for patentcontent in root.findall('.//patentcontent'):\n",
    "            patent_dict = {df_column: patentcontent.find(f'.//{xml_path}').text if patentcontent.find(f'.//{xml_path}') is not None else '無資料'\n",
    "                           for xml_path, df_column in xml_to_df_mapping.items()}\n",
    "            all_patents_info.append(patent_dict)\n",
    "        \n",
    "        # 每處理100筆數據後儲存一次，並記錄進度\n",
    "        if len(all_patents_info) >= 100:\n",
    "            patents_df = pd.DataFrame(all_patents_info)\n",
    "            append_df_to_excel('patents_continuous.xlsx', patents_df)\n",
    "            all_patents_info = []  # 重重置列表以避免重複儲存\n",
    "            save_progress(index + 1)  # 保存進度\n",
    "\n",
    "    elif response.status_code == 429:\n",
    "        print(\"流量用完，暫停檢索。\")\n",
    "        save_progress(index)  # 保存當前進度以便重新開始\n",
    "        break\n",
    "    else:\n",
    "        print(f\"請求失敗, 狀態碼: {response.status_code}\")\n",
    "\n",
    "# 处理完所有数据后，保存任何未保存的数据\n",
    "if all_patents_info:\n",
    "    pd.DataFrame(all_patents_info).to_excel('patents_final结果.xlsx', index=False)\n",
    "    save_progress(index + 1)  # 更新進度為已完全處理\n",
    "\n",
    "print(\"所有資料已處理完畢。\")"
   ]
  },
  {
   "cell_type": "code",
   "execution_count": 2,
   "id": "d68f0bd0",
   "metadata": {},
   "outputs": [],
   "source": [
    "# 讀取Excel檔案\n",
    "keywords_df = pd.read_excel(\"keywords_combinations.xlsx\")\n",
    "# 設置API基本參數\n",
    "user_code = ''  # 請替換成實際的驗證碼\n",
    "base_url = 'https://gpss1.tipo.gov.tw/gpsskmc/gpss_api'\n",
    "# 設定XML到DataFrame欄位名稱的映射\n",
    "xml_to_df_mapping = {\n",
    "    'publication-reference/doc-number': '公開/公告號',\n",
    "    'publication-reference/date': '公開/公告日',\n",
    "    'application-reference/doc-number': '申請號',\n",
    "    'application-reference/date': '申請日',\n",
    "    'patent-title/title': '專利名稱原文',\n",
    "    'patent-title/english-title': '專利名稱英文',\n",
    "    'classifications-ipc/ipc': 'IPC 分類號',\n",
    "    #'classifications-cpc/cpc': 'CPC 分類號',\n",
    "    'abstract/p': '摘要分段內容',\n",
    "    'claims/claim/claim-text': '專利範圍段落內容'\n",
    "}\n",
    "def save_progress(index):\n",
    "    with open('儲存進度.txt', 'w') as file:\n",
    "        file.write(str(index))\n",
    "    print(f\"進度已更新，當前索引: {index}\")\n",
    "\n",
    "def load_progress():\n",
    "    try:\n",
    "        with open('儲存進度.txt', 'r') as file:\n",
    "            return int(file.read().strip())\n",
    "    except FileNotFoundError:\n",
    "        return 0  # 如果沒有進度文件，從頭開始\n",
    "def append_df_to_excel(filename, df, sheet_name='Sheet1', startrow=None, **to_excel_kwargs):\n",
    "    # 打開現有的Excel文件或創建一個新的\n",
    "    try:\n",
    "        writer = pd.ExcelWriter(filename, engine='openpyxl', mode='a', if_sheet_exists='overlay')\n",
    "        # 嘗試打開已存在的sheet\n",
    "        writer.book = load_workbook(filename)\n",
    "        startrow = writer.book[sheet_name].max_row\n",
    "    except FileNotFoundError:\n",
    "        # 文件不存在時，創建一個新的\n",
    "        writer = pd.ExcelWriter(filename, engine='openpyxl', mode='w')\n",
    "        startrow = 0\n",
    "\n",
    "    # 如果startrow是None，則從開頭寫入，否則從指定的行開始寫入\n",
    "    if startrow is None:\n",
    "        startrow = 0\n",
    "\n",
    "    # 寫入數據\n",
    "    df.to_excel(writer, sheet_name=sheet_name, startrow=startrow, **to_excel_kwargs, index=False)\n",
    "\n",
    "    # 保存文件\n",
    "    writer.save()\n",
    "# 讀取上次的進度\n",
    "start_index = load_progress()\n",
    "# 初始化存儲專利信息的列表\n",
    "all_patents_info = []\n",
    "# 遍歷Excel檔案中的每一行\n",
    "for index, row in keywords_df.iloc[start_index:].iterrows():\n",
    "    # 組合關鍵字查詢條件\n",
    "    keywords = 'TI/AB/CL=' + row['關鍵字']\n",
    "    for col in ['同義詞', '上下詞']:\n",
    "        if pd.notnull(row[col]):\n",
    "            keywords += '&+TI/AB/CL=' + row[col]\n",
    "\n",
    "    ipc_code = row['IPC代碼']\n",
    "    api_url = f\"{base_url}?userCode={user_code}&patDB=TWA,TWB,TWD&patAG=A,B&patTY=I,M,D&{keywords}&IC={ipc_code}&expFld=PN,AN,ID,AD,TI,AB,IC,CL&expFmt=xml&expQty=100\"\n",
    "    \n",
    "    response = requests.get(api_url)\n",
    "    if response.status_code == 200:\n",
    "        root = ET.fromstring(response.content)\n",
    "        for patentcontent in root.findall('.//patentcontent'):\n",
    "            patent_dict = {df_column: patentcontent.find(f'.//{xml_path}').text if patentcontent.find(f'.//{xml_path}') is not None else '無資料' \n",
    "                           for xml_path, df_column in xml_to_df_mapping.items()}\n",
    "            all_patents_info.append(patent_dict)\n",
    "        \n",
    "        # 每處理100筆數據後儲存一次，並記錄進度\n",
    "        if len(all_patents_info) >= 100:\n",
    "            patents_df = pd.DataFrame(all_patents_info)\n",
    "            patents_df.to_excel('patents_continuous.xlsx', index=False, mode='a', header=False)\n",
    "            all_patents_info = []  # 重置列表以避免重複儲存\n",
    "            print(\"數據已附加到檔案。保存進度索引:\", index)\n",
    "\n",
    "    elif response.status_code == 429:\n",
    "        print(\"流量用完，暫停檢索。\")\n",
    "        break\n",
    "    else:\n",
    "        print(f\"請求失敗, 狀態碼: {response.status_code}\")\n",
    "        \n",
    "# 處理完所有資料後，儲存任何未保存的資料\n",
    "if all_patents_info:\n",
    "    pd.DataFrame(all_patents_info).to_excel('patents_final結果.xlsx', index=False)\n",
    "    print(\"所有資料已處理完畢並保存。\")"
   ]
  }
 ],
 "metadata": {
  "kernelspec": {
   "display_name": "Python 3 (ipykernel)",
   "language": "python",
   "name": "python3"
  },
  "language_info": {
   "codemirror_mode": {
    "name": "ipython",
    "version": 3
   },
   "file_extension": ".py",
   "mimetype": "text/x-python",
   "name": "python",
   "nbconvert_exporter": "python",
   "pygments_lexer": "ipython3",
   "version": "3.8.16"
  }
 },
 "nbformat": 4,
 "nbformat_minor": 5
}
