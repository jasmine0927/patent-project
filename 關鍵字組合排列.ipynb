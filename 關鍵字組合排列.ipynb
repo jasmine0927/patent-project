{
 "cells": [
  {
   "cell_type": "code",
   "execution_count": 1,
   "id": "d7c8be47",
   "metadata": {},
   "outputs": [],
   "source": [
    "import pandas as pd\n",
    "from itertools import product"
   ]
  },
  {
   "cell_type": "code",
   "execution_count": 2,
   "id": "39264fcb",
   "metadata": {},
   "outputs": [],
   "source": [
    "# 載入 Excel 檔案\n",
    "file_path = '關鍵字.xlsx'  # 更改為您的檔案路徑\n",
    "df = pd.read_excel(file_path)"
   ]
  },
  {
   "cell_type": "code",
   "execution_count": 3,
   "id": "4d159c1e",
   "metadata": {},
   "outputs": [],
   "source": [
    "# 將字串形式的列表轉換為真實的列表\n",
    "df['同義詞'] = df['同義詞'].apply(eval)\n",
    "df['上下詞'] = df['上下詞'].apply(eval)\n",
    "df['IPC代碼'] = df['IPC代碼'].apply(eval)"
   ]
  },
  {
   "cell_type": "code",
   "execution_count": 4,
   "id": "061c7cb4",
   "metadata": {},
   "outputs": [],
   "source": [
    "# 準備收集組合\n",
    "combinations = []"
   ]
  },
  {
   "cell_type": "code",
   "execution_count": 5,
   "id": "4a6bde64",
   "metadata": {},
   "outputs": [],
   "source": [
    "# 遍歷每一行以計算組合\n",
    "for _, row in df.iterrows():\n",
    "    # 計算行中列表的排列組合\n",
    "    for combination in product([row['關鍵字']], row['同義詞'], row['上下詞'], row['IPC代碼']):\n",
    "        combinations.append(combination)\n",
    "\n",
    "# 將組合列表轉換為 DataFrame\n",
    "combinations_df = pd.DataFrame(combinations, columns=['關鍵字', '同義詞', '上下詞', 'IPC代碼'])"
   ]
  },
  {
   "cell_type": "code",
   "execution_count": 6,
   "id": "d48007ce",
   "metadata": {},
   "outputs": [
    {
     "name": "stdout",
     "output_type": "stream",
     "text": [
      "File saved to keywords_combinations.xlsx\n"
     ]
    }
   ],
   "source": [
    "# 定義新 Excel 檔案的路徑\n",
    "output_path = 'keywords_combinations.xlsx'  # 您可以更改檔案名稱和儲存位置\n",
    "\n",
    "# 將組合保存到一個新的 Excel 檔案中\n",
    "combinations_df.to_excel(output_path, index=False)\n",
    "\n",
    "print(f\"File saved to {output_path}\")"
   ]
  },
  {
   "cell_type": "code",
   "execution_count": null,
   "id": "36c40855",
   "metadata": {},
   "outputs": [],
   "source": []
  }
 ],
 "metadata": {
  "kernelspec": {
   "display_name": "Python 3 (ipykernel)",
   "language": "python",
   "name": "python3"
  },
  "language_info": {
   "codemirror_mode": {
    "name": "ipython",
    "version": 3
   },
   "file_extension": ".py",
   "mimetype": "text/x-python",
   "name": "python",
   "nbconvert_exporter": "python",
   "pygments_lexer": "ipython3",
   "version": "3.8.16"
  }
 },
 "nbformat": 4,
 "nbformat_minor": 5
}
